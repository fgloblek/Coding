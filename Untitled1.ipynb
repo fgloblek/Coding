{
 "cells": [
  {
   "cell_type": "code",
   "execution_count": 4,
   "metadata": {},
   "outputs": [
    {
     "name": "stdout",
     "output_type": "stream",
     "text": [
      "aaaa aafaa aaaa aa afa aaaa aaaa aafaa\n"
     ]
    }
   ],
   "source": [
    "tokens = ['2222223222222222322222222222322', '5', 'a', 'aa', 'afa', 'aaaa', 'aafaa']\n",
    "\n",
    "from itertools import combinations_with_replacement as combinations\n",
    "from itertools import permutations\n",
    "from math import floor, ceil\n",
    "\n",
    "def word_to_num(word):\n",
    "    d={'a':'2','b':'2','c':'2','d':'3','e':'3','f':'3','g':'4','h':'4','i':'1','j':'1','k':'5','l':'5','m':'6','n':'6','o':'0','p':'7','q':'0','r':'7','s':'7','t':'8','u':'8','v':'8','w':'9','x':'9','y':'9','z':'0'}\n",
    "    s=''\n",
    "    for i in word:\n",
    "        s+=d[i]\n",
    "    return s\n",
    "\n",
    "def solve(goal,words): \n",
    "    allcombs = []\n",
    "    found = 0 \n",
    "    nosol = 0\n",
    "    n = ceil(len(goal)/len(max(words,key=len)))\n",
    "    while found < 1:\n",
    "        for unperm in combinations(words,n):\n",
    "            if found == 1: break\n",
    "            if len(''.join(unperm))!=len(goal): continue\n",
    "            for i in permutations(unperm):\n",
    "                if found == 1: break\n",
    "                candidate = ''.join(i)\n",
    "                spacecandidate= \" \".join(i)\n",
    "                numcandidate = word_to_num( candidate )\n",
    "                if goal==numcandidate:\n",
    "                    found = 1\n",
    "                    break\n",
    "        n += 1\n",
    "        if n > floor(len(goal)/len(min(words, key=len))): \n",
    "            nosol = 1\n",
    "            break\n",
    "    if nosol == 0: \n",
    "        print(spacecandidate)\n",
    "    else:\n",
    "        print(\"No solutions\")\n",
    "\n",
    "tokenindex = 0\n",
    "while tokenindex < len(tokens)-2:\n",
    "    goal = tokens[tokenindex]\n",
    "    wordnum = int(tokens[tokenindex+1])\n",
    "    words = [ word for word in tokens[tokenindex+2:tokenindex+2+wordnum]]\n",
    "    words = sorted(words, key=len)[::-1]\n",
    "    tokenindex += wordnum+2\n",
    "    solve(goal,words)\n"
   ]
  },
  {
   "cell_type": "code",
   "execution_count": 38,
   "metadata": {},
   "outputs": [
    {
     "name": "stdout",
     "output_type": "stream",
     "text": [
      "cat long black tail \n",
      " bjj jjjj jjjj jjjj jjjj jjjj jjjj jjjj jjjj jjjj jjjj jjjj jjjj jjjj jjjj jjjj jjjj jjjj jjjj jjjj jjjj jjjj jjjj \n",
      " pa wkdwwgpppatgtkmwtdawtgmkitwdmptwkiapt wadtattkmpadppdaiadkgg gdakwttpdpmiaptpdgmdda\n"
     ]
    }
   ],
   "source": [
    "print('cat long black tail \\n bjj jjjj jjjj jjjj jjjj jjjj jjjj jjjj jjjj jjjj jjjj jjjj jjjj jjjj jjjj jjjj jjjj jjjj jjjj jjjj jjjj jjjj jjjj \\n pa wkdwwgpppatgtkmwtdawtgmkitwdmptwkiapt wadtattkmpadppdaiadkgg gdakwttpdpmiaptpdgmdda')"
   ]
  },
  {
   "cell_type": "code",
   "execution_count": 55,
   "metadata": {},
   "outputs": [
    {
     "data": {
      "text/plain": [
       "'pa wkdwwgpppatgtkmwtdawtgmkitwdmptwkia ptw adtattkmpadppdaiadkgggdakwttpdpmiaptpdgmdda'"
      ]
     },
     "execution_count": 55,
     "metadata": {},
     "output_type": "execute_result"
    }
   ],
   "source": [
    "''.join('pa wkdwwgpppatgtkmwtdawtgmkitwdmptwkia ptw adtattkmpadppdaiadkgggdakwttpdpmiaptpdgmdda')"
   ]
  },
  {
   "cell_type": "code",
   "execution_count": null,
   "metadata": {},
   "outputs": [],
   "source": [
    "n=4\n",
    "for unperm in combinations(words,n):\n",
    "            if len(''.join(unperm))!=len(goal): continue\n",
    "            print(unperm)"
   ]
  },
  {
   "cell_type": "code",
   "execution_count": 72,
   "metadata": {},
   "outputs": [
    {
     "ename": "KeyboardInterrupt",
     "evalue": "",
     "output_type": "error",
     "traceback": [
      "\u001b[0;31m---------------------------------------------------------------------------\u001b[0m",
      "\u001b[0;31mKeyboardInterrupt\u001b[0m                         Traceback (most recent call last)",
      "\u001b[0;32m<ipython-input-72-25bb89311431>\u001b[0m in \u001b[0;36m<module>\u001b[0;34m\u001b[0m\n\u001b[1;32m      1\u001b[0m \u001b[0mcandno\u001b[0m\u001b[0;34m=\u001b[0m\u001b[0;36m0\u001b[0m\u001b[0;34m\u001b[0m\u001b[0;34m\u001b[0m\u001b[0m\n\u001b[1;32m      2\u001b[0m \u001b[0;32mfor\u001b[0m \u001b[0munperm\u001b[0m \u001b[0;32min\u001b[0m \u001b[0mcombinations\u001b[0m\u001b[0;34m(\u001b[0m\u001b[0mwords\u001b[0m\u001b[0;34m,\u001b[0m\u001b[0;36m4\u001b[0m\u001b[0;34m)\u001b[0m\u001b[0;34m:\u001b[0m\u001b[0;34m\u001b[0m\u001b[0;34m\u001b[0m\u001b[0m\n\u001b[0;32m----> 3\u001b[0;31m     \u001b[0;32mif\u001b[0m \u001b[0mlen\u001b[0m\u001b[0;34m(\u001b[0m\u001b[0;34m''\u001b[0m\u001b[0;34m.\u001b[0m\u001b[0mjoin\u001b[0m\u001b[0;34m(\u001b[0m\u001b[0munperm\u001b[0m\u001b[0;34m)\u001b[0m\u001b[0;34m)\u001b[0m\u001b[0;34m==\u001b[0m\u001b[0mlen\u001b[0m\u001b[0;34m(\u001b[0m\u001b[0mgoal\u001b[0m\u001b[0;34m)\u001b[0m\u001b[0;34m:\u001b[0m \u001b[0mcandno\u001b[0m \u001b[0;34m+=\u001b[0m \u001b[0;36m1\u001b[0m\u001b[0;34m\u001b[0m\u001b[0;34m\u001b[0m\u001b[0m\n\u001b[0m\u001b[1;32m      4\u001b[0m \u001b[0mprint\u001b[0m\u001b[0;34m(\u001b[0m\u001b[0mcandno\u001b[0m\u001b[0;34m)\u001b[0m\u001b[0;34m\u001b[0m\u001b[0;34m\u001b[0m\u001b[0m\n",
      "\u001b[0;31mKeyboardInterrupt\u001b[0m: "
     ]
    }
   ],
   "source": [
    "candno=0\n",
    "for unperm in combinations(words,4):\n",
    "    if len(''.join(unperm))==len(goal): candno += 1\n",
    "print(candno)"
   ]
  },
  {
   "cell_type": "code",
   "execution_count": 77,
   "metadata": {},
   "outputs": [
    {
     "ename": "AttributeError",
     "evalue": "module 'math' has no attribute 'choose'",
     "output_type": "error",
     "traceback": [
      "\u001b[0;31m---------------------------------------------------------------------------\u001b[0m",
      "\u001b[0;31mAttributeError\u001b[0m                            Traceback (most recent call last)",
      "\u001b[0;32m<ipython-input-77-943a3fcde2ac>\u001b[0m in \u001b[0;36m<module>\u001b[0;34m\u001b[0m\n\u001b[1;32m      1\u001b[0m \u001b[0;32mimport\u001b[0m \u001b[0mmath\u001b[0m\u001b[0;34m\u001b[0m\u001b[0;34m\u001b[0m\u001b[0m\n\u001b[0;32m----> 2\u001b[0;31m \u001b[0mmath\u001b[0m\u001b[0;34m.\u001b[0m\u001b[0mchoose\u001b[0m\u001b[0;34m(\u001b[0m\u001b[0;36m3\u001b[0m\u001b[0;34m,\u001b[0m\u001b[0;36m2\u001b[0m\u001b[0;34m)\u001b[0m\u001b[0;34m\u001b[0m\u001b[0;34m\u001b[0m\u001b[0m\n\u001b[0m",
      "\u001b[0;31mAttributeError\u001b[0m: module 'math' has no attribute 'choose'"
     ]
    }
   ],
   "source": [
    "import math \n",
    "math.choose(3,2)"
   ]
  },
  {
   "cell_type": "code",
   "execution_count": 2,
   "metadata": {},
   "outputs": [],
   "source": [
    "class TrieNode:\n",
    "    \"\"\"A node in the trie structure\"\"\"\n",
    "\n",
    "    def __init__(self, char):\n",
    "        # the character stored in this node\n",
    "        self.char = char\n",
    "\n",
    "        # whether this can be the end of a word\n",
    "        self.is_end = False\n",
    "\n",
    "        # a counter indicating how many times a word is inserted\n",
    "        # (if this node's is_end is True)\n",
    "        self.counter = 0\n",
    "\n",
    "        # a dictionary of child nodes\n",
    "        # keys are characters, values are nodes\n",
    "        self.children = {}\n",
    "        \n",
    "class Trie(object):\n",
    "    \"\"\"The trie object\"\"\"\n",
    "\n",
    "    def __init__(self):\n",
    "        \"\"\"\n",
    "        The trie has at least the root node.\n",
    "        The root node does not store any character\n",
    "        \"\"\"\n",
    "        self.root = TrieNode(\"\")\n",
    "    \n",
    "    def insert(self, word):\n",
    "        \"\"\"Insert a word into the trie\"\"\"\n",
    "        node = self.root\n",
    "        \n",
    "        # Loop through each character in the word\n",
    "        # Check if there is no child containing the character, create a new child for the current node\n",
    "        for char in word:\n",
    "            if char in node.children:\n",
    "                node = node.children[char]\n",
    "            else:\n",
    "                # If a character is not found,\n",
    "                # create a new node in the trie\n",
    "                new_node = TrieNode(char)\n",
    "                node.children[char] = new_node\n",
    "                node = new_node\n",
    "        \n",
    "        # Mark the end of a word\n",
    "        node.is_end = True\n",
    "\n",
    "        # Increment the counter to indicate that we see this word once more\n",
    "        node.counter += 1\n",
    "        \n",
    "    def dfs(self, node, prefix):\n",
    "        \"\"\"Depth-first traversal of the trie\n",
    "        \n",
    "        Args:\n",
    "            - node: the node to start with\n",
    "            - prefix: the current prefix, for tracing a\n",
    "                word while traversing the trie\n",
    "        \"\"\"\n",
    "        if node.is_end:\n",
    "            self.output.append((prefix + node.char, node.counter))\n",
    "        \n",
    "        for child in node.children.values():\n",
    "            self.dfs(child, prefix + node.char)\n",
    "        \n",
    "    def query(self, x):\n",
    "        \"\"\"Given an input (a prefix), retrieve all words stored in\n",
    "        the trie with that prefix, sort the words by the number of \n",
    "        times they have been inserted\n",
    "        \"\"\"\n",
    "        # Use a variable within the class to keep all possible outputs\n",
    "        # As there can be more than one word with such prefix\n",
    "        self.output = []\n",
    "        node = self.root\n",
    "        \n",
    "        # Check if the prefix is in the trie\n",
    "        for char in x:\n",
    "            if char in node.children:\n",
    "                node = node.children[char]\n",
    "            else:\n",
    "                # cannot found the prefix, return empty list\n",
    "                return []\n",
    "        \n",
    "        # Traverse the trie to get all candidates\n",
    "        self.dfs(node, x[:-1])\n",
    "\n",
    "        # Sort the results in reverse order and return\n",
    "        return sorted(self.output, key=lambda x: x[1], reverse=True)"
   ]
  },
  {
   "cell_type": "code",
   "execution_count": 17,
   "metadata": {},
   "outputs": [
    {
     "ename": "IndexError",
     "evalue": "list index out of range",
     "output_type": "error",
     "traceback": [
      "\u001b[0;31m---------------------------------------------------------------------------\u001b[0m",
      "\u001b[0;31mIndexError\u001b[0m                                Traceback (most recent call last)",
      "\u001b[0;32m<ipython-input-17-bd93143054d5>\u001b[0m in \u001b[0;36m<module>\u001b[0;34m\u001b[0m\n\u001b[1;32m     25\u001b[0m             \u001b[0mtqs\u001b[0m \u001b[0;34m=\u001b[0m \u001b[0msorted\u001b[0m\u001b[0;34m(\u001b[0m\u001b[0mtq\u001b[0m\u001b[0;34m,\u001b[0m\u001b[0mkey\u001b[0m\u001b[0;34m=\u001b[0m\u001b[0mlen\u001b[0m\u001b[0;34m)\u001b[0m\u001b[0;34m[\u001b[0m\u001b[0;34m:\u001b[0m\u001b[0;34m:\u001b[0m\u001b[0;34m-\u001b[0m\u001b[0;36m1\u001b[0m\u001b[0;34m]\u001b[0m\u001b[0;34m\u001b[0m\u001b[0;34m\u001b[0m\u001b[0m\n\u001b[1;32m     26\u001b[0m             \u001b[0monesol\u001b[0m\u001b[0;34m.\u001b[0m\u001b[0mappend\u001b[0m\u001b[0;34m(\u001b[0m\u001b[0mtqs\u001b[0m\u001b[0;34m[\u001b[0m\u001b[0mp\u001b[0m\u001b[0;34m]\u001b[0m\u001b[0;34m)\u001b[0m\u001b[0;34m\u001b[0m\u001b[0;34m\u001b[0m\u001b[0m\n\u001b[0;32m---> 27\u001b[0;31m             \u001b[0mD\u001b[0m\u001b[0;34m[\u001b[0m\u001b[0mi\u001b[0m\u001b[0;34m]\u001b[0m\u001b[0;34m[\u001b[0m\u001b[0mp\u001b[0m\u001b[0;34m]\u001b[0m\u001b[0;34m=\u001b[0m\u001b[0mtqs\u001b[0m\u001b[0;34m[\u001b[0m\u001b[0mp\u001b[0m\u001b[0;34m]\u001b[0m\u001b[0;34m\u001b[0m\u001b[0;34m\u001b[0m\u001b[0m\n\u001b[0m\u001b[1;32m     28\u001b[0m             \u001b[0mi\u001b[0m\u001b[0;34m+=\u001b[0m \u001b[0mlen\u001b[0m\u001b[0;34m(\u001b[0m\u001b[0mstr\u001b[0m\u001b[0;34m(\u001b[0m\u001b[0mtqs\u001b[0m\u001b[0;34m[\u001b[0m\u001b[0;36m0\u001b[0m\u001b[0;34m]\u001b[0m\u001b[0;34m)\u001b[0m\u001b[0;34m)\u001b[0m\u001b[0;34m\u001b[0m\u001b[0;34m\u001b[0m\u001b[0m\n\u001b[1;32m     29\u001b[0m         \u001b[0;32mcontinue\u001b[0m\u001b[0;34m\u001b[0m\u001b[0;34m\u001b[0m\u001b[0m\n",
      "\u001b[0;31mIndexError\u001b[0m: list index out of range"
     ]
    }
   ],
   "source": [
    "t = Trie()\n",
    "for word in words:\n",
    "    t.insert(word_to_num(word))\n",
    "    \n",
    "def trielookup(string,trie):\n",
    "    substrings = []\n",
    "    for i in range(len(string)):\n",
    "        tq = trie.query(string[0:i])\n",
    "        if tq != [] and string.find(str(tq[0][0]))==0 :\n",
    "            substrings.append( str(tq[0][0]) )\n",
    "    return list(dict.fromkeys(substrings))\n",
    "\n",
    "wordict = {}\n",
    "for word in words:\n",
    "    wordict[word_to_num(word)]=word\n",
    "\n",
    "N=10\n",
    "D = [[0]*N]*N\n",
    "onesol = []\n",
    "i = 0   \n",
    "while i < len(goal):\n",
    "    tq = trielookup(goal[i:],t)\n",
    "    if tq!=[]:\n",
    "        for p in range(len(tq)):\n",
    "            tqs = sorted(tq,key=len)[::-1]\n",
    "            onesol.append(tqs[p])\n",
    "            D[i][p]=tqs[p]\n",
    "            i+= len(str(tqs[0]))\n",
    "        continue\n",
    "    i+=1\n",
    " \n",
    "oneword= ' '.join([wordict[word] for word in onesol])\n",
    "print(oneword)"
   ]
  },
  {
   "cell_type": "code",
   "execution_count": 99,
   "metadata": {},
   "outputs": [
    {
     "name": "stdout",
     "output_type": "stream",
     "text": [
      "[('black', '25225'), ('false', '32573'), ('tail', '8215'), ('long', '5064'), ('cat', '228')]\n"
     ]
    }
   ],
   "source": [
    "print([(word,word_to_num(word)) for word in words])"
   ]
  },
  {
   "cell_type": "code",
   "execution_count": 18,
   "metadata": {},
   "outputs": [
    {
     "name": "stdout",
     "output_type": "stream",
     "text": [
      "[['2222', '22', '2', 0, 0, 0, 0, 0, 0, 0], ['2222', '22', '2', 0, 0, 0, 0, 0, 0, 0], ['2222', '22', '2', 0, 0, 0, 0, 0, 0, 0], ['2222', '22', '2', 0, 0, 0, 0, 0, 0, 0], ['2222', '22', '2', 0, 0, 0, 0, 0, 0, 0], ['2222', '22', '2', 0, 0, 0, 0, 0, 0, 0], ['2222', '22', '2', 0, 0, 0, 0, 0, 0, 0], ['2222', '22', '2', 0, 0, 0, 0, 0, 0, 0], ['2222', '22', '2', 0, 0, 0, 0, 0, 0, 0], ['2222', '22', '2', 0, 0, 0, 0, 0, 0, 0]]\n"
     ]
    }
   ],
   "source": [
    "print(D)"
   ]
  },
  {
   "cell_type": "code",
   "execution_count": 43,
   "metadata": {},
   "outputs": [
    {
     "name": "stdout",
     "output_type": "stream",
     "text": [
      "668439837\n",
      "6684403\n",
      "Execution time in seconds: 1.8582701683044434\n"
     ]
    }
   ],
   "source": [
    "\n",
    "n = int(input())\n",
    "\n",
    "\n",
    "import time\n",
    "startTime = time.time()\n",
    "\n",
    "coins = [100,20,10,5,1]\n",
    "coinnum = 0\n",
    "\n",
    "for coin in coins:\n",
    "    d, r = divmod(n,coin)\n",
    "    coinnum += d\n",
    "    if r > 0:\n",
    "        n = r\n",
    "    else:\n",
    "        break\n",
    "        \n",
    "print(coinnum)  \n",
    "executionTime = (time.time() - startTime)\n",
    "print('Execution time in seconds: ' + str(executionTime))\n",
    "    "
   ]
  },
  {
   "cell_type": "code",
   "execution_count": 78,
   "metadata": {},
   "outputs": [
    {
     "name": "stdout",
     "output_type": "stream",
     "text": [
      "2\n",
      "2\n",
      "2 1\n",
      "3\n",
      "2 2 2\n",
      "[0, 0]\n"
     ]
    }
   ],
   "source": [
    "t = int(input())\n",
    "at = [0]*t\n",
    "ans = [0]*t\n",
    "for i in range(t):\n",
    "    n = int(input())\n",
    "    at[i] = input().split(' ')\n",
    "    if sum([int(a) for a in at[i]]) % 2 == 1:\n",
    "        continue\n",
    "    else:\n",
    "        if len(list(set(at[i])))==1:\n",
    "            if n % 2 == 0: \n",
    "                ans[i]=1\n",
    "        else:\n",
    "            ans[i]=1\n",
    "for a in ans:\n",
    "    if a == 1: \n",
    "        print(\"YES\")\n",
    "    else:\n",
    "        print(\"NO\")\n",
    "        "
   ]
  },
  {
   "cell_type": "code",
   "execution_count": 130,
   "metadata": {},
   "outputs": [
    {
     "name": "stdout",
     "output_type": "stream",
     "text": [
      "12\n",
      "2\n"
     ]
    }
   ],
   "source": [
    "\n",
    "n = int(input())\n",
    "\n",
    "def prime_factors(n):\n",
    "    i = 2\n",
    "    factors = []\n",
    "    while i * i <= n:\n",
    "        if n % i:\n",
    "            i += 1\n",
    "        else:\n",
    "            n //= i\n",
    "            factors.append(i)\n",
    "    if n > 1:\n",
    "        factors.append(n)\n",
    "    return factors\n",
    "\n",
    "def partitions(n):\n",
    "    parts = [1]+[0]*n\n",
    "    for t in range(1, n+1):\n",
    "        for i, x in enumerate(range(t, n+1)):\n",
    "            parts[x] += parts[i]\n",
    "    return parts[n]\n",
    "\n",
    "gpno = 1\n",
    "primefactors = prime_factors(n)\n",
    "for primefactor in set(primefactors):\n",
    "    gpno *= partitions(primefactors.count(primefactor))\n",
    "print(gpno)"
   ]
  },
  {
   "cell_type": "code",
   "execution_count": 144,
   "metadata": {},
   "outputs": [
    {
     "data": {
      "text/plain": [
       "0"
      ]
     },
     "execution_count": 144,
     "metadata": {},
     "output_type": "execute_result"
    }
   ],
   "source": [
    "binarize('222222').find('0')"
   ]
  },
  {
   "cell_type": "code",
   "execution_count": 161,
   "metadata": {},
   "outputs": [
    {
     "name": "stdout",
     "output_type": "stream",
     "text": [
      "4\n",
      "3876\n",
      "387\n",
      "4489\n",
      "3\n",
      "0\n",
      "2\n",
      "1\n",
      "-1\n"
     ]
    }
   ],
   "source": [
    "def binarize(string):\n",
    "    out = ''\n",
    "    for char in string:\n",
    "        rest = int(char) % 2\n",
    "        out = out + str(rest)\n",
    "    return out\n",
    "\n",
    "t = int(input())\n",
    "cisla = [0]*t\n",
    "for i in range(t):\n",
    "    cislo = binarize(input())\n",
    "    if cislo.find('0',-1)==len(cislo)-1:\n",
    "        cisla[i] = 0\n",
    "    elif cislo.find('0')==0:\n",
    "        cisla[i] = 1\n",
    "    elif cislo.find('10')!=-1:\n",
    "        cisla[i]=2\n",
    "    else:\n",
    "        cisla[i]=-1\n",
    "    \n",
    "for cislo in cisla:\n",
    "    print(cislo)"
   ]
  },
  {
   "cell_type": "code",
   "execution_count": 160,
   "metadata": {},
   "outputs": [
    {
     "data": {
      "text/plain": [
       "3"
      ]
     },
     "execution_count": 160,
     "metadata": {},
     "output_type": "execute_result"
    }
   ],
   "source": [
    "'1010'.find('0',-1)"
   ]
  },
  {
   "cell_type": "code",
   "execution_count": 52,
   "metadata": {},
   "outputs": [
    {
     "name": "stdout",
     "output_type": "stream",
     "text": [
      "6684403\n",
      "Execution time in seconds: 0.0004546642303466797\n"
     ]
    }
   ],
   "source": [
    "n = 668439837\n",
    "\n",
    "\n",
    "import time\n",
    "startTime = time.time()\n",
    "\n",
    "coins = [100,20,10,5,1]\n",
    "coinnum = 0\n",
    "\n",
    "for coin in coins:\n",
    "    d, r = divmod(n,coin)\n",
    "    coinnum += d\n",
    "    if r > 0:\n",
    "        n = r\n",
    "    else:\n",
    "        break\n",
    "print(coinnum)  \n",
    "executionTime = (time.time() - startTime)\n",
    "print('Execution time in seconds: ' + str(executionTime))"
   ]
  },
  {
   "cell_type": "code",
   "execution_count": 258,
   "metadata": {},
   "outputs": [
    {
     "name": "stdout",
     "output_type": "stream",
     "text": [
      "1\n",
      "0\n",
      "0\n"
     ]
    }
   ],
   "source": [
    "n = int(input())\n",
    "sign = lambda x: x and (-1 if x < 0 else 1)\n",
    "T = [0]*n\n",
    "lastans = [0]\n",
    "precision = int(1+1e9)\n",
    "i = 0\n",
    "while i<n:\n",
    "    T[i] = int(input())\n",
    "    ki = int(input())\n",
    "    if ki == 0: \n",
    "        i += 1\n",
    "        continue\n",
    "    xprime = input().split(' ')\n",
    "    x = [0]*ki\n",
    "    while qnum in range(ki):\n",
    "        x[qnum] = ( int(xprime[qnum]) + lastans[-1] ) % precision\n",
    "        for Ti in T[0:i+1]:\n",
    "            x[qnum] += sign( Ti - x[qnum] ) \n",
    "        lastans += [ x[qnum] ]\n",
    "    i+=1\n",
    "\n",
    "for ans in lastans[1:]:\n",
    "    print(ans)"
   ]
  },
  {
   "cell_type": "code",
   "execution_count": 263,
   "metadata": {},
   "outputs": [
    {
     "name": "stdout",
     "output_type": "stream",
     "text": [
      "3\n",
      "50\n",
      "3\n",
      "1 2 3\n",
      "50\n",
      "3\n",
      "4 5 6\n",
      "0\n",
      "3\n",
      "7 8 9\n",
      "2\n",
      "5\n",
      "9\n",
      "15\n",
      "22\n",
      "30\n",
      "38\n",
      "47\n",
      "53\n"
     ]
    }
   ],
   "source": [
    "n = int(input())\n",
    "sign = lambda x: x and (-1 if x < 0 else 1)\n",
    "T = [0]*n\n",
    "lastans = [0]\n",
    "precision = int(1+1e9)\n",
    "for i in range(n):\n",
    "    T[i] = int(input())\n",
    "    ki = int(input())\n",
    "    if ki == 0: \n",
    "        continue\n",
    "    xprime = input().split(' ')\n",
    "    x = [0]*ki\n",
    "    for qnum in range(ki):\n",
    "        x[qnum] = ( int(xprime[qnum]) + lastans[-1] ) % precision\n",
    "        for Ti in T[0:i+1]:\n",
    "            x[qnum] += sign( Ti - x[qnum] ) \n",
    "        lastans += [ x[qnum] ]\n",
    "\n",
    "for ans in lastans[1:]:\n",
    "    print(ans)"
   ]
  },
  {
   "cell_type": "code",
   "execution_count": 216,
   "metadata": {},
   "outputs": [
    {
     "data": {
      "text/plain": [
       "[50, 50, 0]"
      ]
     },
     "execution_count": 216,
     "metadata": {},
     "output_type": "execute_result"
    }
   ],
   "source": [
    "n = int(input())\n",
    "sign = lambda x: x and (-1 if x < 0 else 1)\n",
    "T = [0]*n\n",
    "lastans = [0]\n",
    "precision = int(1+1e9)\n",
    "for i in range(n):\n",
    "    T[i] = int(input())\n",
    "    if int(input()) == 0 : \n",
    "        continue\n",
    "    xprime = input().split(' ')\n",
    "    for xp in xprime:\n",
    "        x = ( int(xp) + lastans[-1] ) % precision\n",
    "        for Ti in T[0:i+1]:\n",
    "            x += sign( Ti - x ) \n",
    "        lastans += [ x ]\n",
    "\n",
    "for ans in lastans[1:]:\n",
    "    print(ans)"
   ]
  },
  {
   "cell_type": "code",
   "execution_count": 175,
   "metadata": {},
   "outputs": [
    {
     "data": {
      "text/plain": [
       "0"
      ]
     },
     "execution_count": 175,
     "metadata": {},
     "output_type": "execute_result"
    }
   ],
   "source": [
    "n = int(input())\n",
    "T = [0]*n\n",
    "lastans = [0]\n",
    "precision = int(1+1e9)\n",
    "for i in range(n):\n",
    "    T[i] = int(input())\n",
    "    if int(input()) == 0 : \n",
    "        continue\n",
    "    xprime = input().split(' ')\n",
    "    for xp in xprime:\n",
    "        x = ( int(xp) + lastans[-1] ) % precision\n",
    "        for Ti in T[0:i+1]:\n",
    "            s = Ti - x\n",
    "            if s > 0:\n",
    "                x += 1\n",
    "            elif s < 0:\n",
    "                x -= 1\n",
    "        lastans += [ x ]\n",
    "\n",
    "for ans in lastans[1:]:\n",
    "    print(ans)"
   ]
  },
  {
   "cell_type": "code",
   "execution_count": 273,
   "metadata": {},
   "outputs": [
    {
     "name": "stdout",
     "output_type": "stream",
     "text": [
      "2\n",
      "50\n",
      "3\n",
      "1 2 3\n",
      "2\n",
      "5\n",
      "9\n",
      "0\n",
      "3\n",
      "4 5 6\n",
      "13\n",
      "18\n",
      "24\n"
     ]
    }
   ],
   "source": [
    "n = int(input())\n",
    "T = []\n",
    "x = 0\n",
    "precision = int(1+1e9)\n",
    "for i in range(n):\n",
    "    T.append(int(input()))\n",
    "    if int(input()) == 0 : \n",
    "        continue\n",
    "    for xp in input().split(' '):\n",
    "        x = ( int(xp) + x ) % precision\n",
    "        for Ti in T:\n",
    "            s = Ti - x\n",
    "            if s > 0:\n",
    "                x += 1\n",
    "            elif s < 0:\n",
    "                x -= 1               \n",
    "        print(x)"
   ]
  },
  {
   "cell_type": "code",
   "execution_count": 355,
   "metadata": {},
   "outputs": [
    {
     "name": "stdout",
     "output_type": "stream",
     "text": [
      "2\n",
      "50\n",
      "3\n",
      "1 2 3\n",
      "2\n",
      "5\n",
      "9\n"
     ]
    },
    {
     "ename": "KeyboardInterrupt",
     "evalue": "Interrupted by user",
     "output_type": "error",
     "traceback": [
      "\u001b[0;31m---------------------------------------------------------------------------\u001b[0m",
      "\u001b[0;31mKeyboardInterrupt\u001b[0m                         Traceback (most recent call last)",
      "\u001b[0;32m<ipython-input-355-e2d022f79762>\u001b[0m in \u001b[0;36m<module>\u001b[0;34m\u001b[0m\n\u001b[1;32m     26\u001b[0m \u001b[0mn\u001b[0m\u001b[0;34m=\u001b[0m\u001b[0mint\u001b[0m\u001b[0;34m(\u001b[0m\u001b[0minput\u001b[0m\u001b[0;34m(\u001b[0m\u001b[0;34m)\u001b[0m\u001b[0;34m)\u001b[0m\u001b[0;34m\u001b[0m\u001b[0;34m\u001b[0m\u001b[0m\n\u001b[1;32m     27\u001b[0m \u001b[0;32mfor\u001b[0m \u001b[0mi\u001b[0m \u001b[0;32min\u001b[0m \u001b[0mrange\u001b[0m\u001b[0;34m(\u001b[0m\u001b[0mn\u001b[0m\u001b[0;34m)\u001b[0m\u001b[0;34m:\u001b[0m\u001b[0;34m\u001b[0m\u001b[0;34m\u001b[0m\u001b[0m\n\u001b[0;32m---> 28\u001b[0;31m     \u001b[0mT\u001b[0m \u001b[0;34m=\u001b[0m \u001b[0mint\u001b[0m\u001b[0;34m(\u001b[0m\u001b[0minput\u001b[0m\u001b[0;34m(\u001b[0m\u001b[0;34m)\u001b[0m\u001b[0;34m)\u001b[0m\u001b[0;34m\u001b[0m\u001b[0;34m\u001b[0m\u001b[0m\n\u001b[0m\u001b[1;32m     29\u001b[0m     \u001b[0;32mif\u001b[0m \u001b[0mint\u001b[0m\u001b[0;34m(\u001b[0m\u001b[0minput\u001b[0m\u001b[0;34m(\u001b[0m\u001b[0;34m)\u001b[0m\u001b[0;34m)\u001b[0m \u001b[0;34m==\u001b[0m \u001b[0;36m0\u001b[0m \u001b[0;34m:\u001b[0m\u001b[0;34m\u001b[0m\u001b[0;34m\u001b[0m\u001b[0m\n\u001b[1;32m     30\u001b[0m         \u001b[0;32mcontinue\u001b[0m\u001b[0;34m\u001b[0m\u001b[0;34m\u001b[0m\u001b[0m\n",
      "\u001b[0;32m/usr/lib/python3/dist-packages/ipykernel/kernelbase.py\u001b[0m in \u001b[0;36mraw_input\u001b[0;34m(self, prompt)\u001b[0m\n\u001b[1;32m    858\u001b[0m                 \u001b[0;34m\"raw_input was called, but this frontend does not support input requests.\"\u001b[0m\u001b[0;34m\u001b[0m\u001b[0;34m\u001b[0m\u001b[0m\n\u001b[1;32m    859\u001b[0m             )\n\u001b[0;32m--> 860\u001b[0;31m         return self._input_request(str(prompt),\n\u001b[0m\u001b[1;32m    861\u001b[0m             \u001b[0mself\u001b[0m\u001b[0;34m.\u001b[0m\u001b[0m_parent_ident\u001b[0m\u001b[0;34m,\u001b[0m\u001b[0;34m\u001b[0m\u001b[0;34m\u001b[0m\u001b[0m\n\u001b[1;32m    862\u001b[0m             \u001b[0mself\u001b[0m\u001b[0;34m.\u001b[0m\u001b[0m_parent_header\u001b[0m\u001b[0;34m,\u001b[0m\u001b[0;34m\u001b[0m\u001b[0;34m\u001b[0m\u001b[0m\n",
      "\u001b[0;32m/usr/lib/python3/dist-packages/ipykernel/kernelbase.py\u001b[0m in \u001b[0;36m_input_request\u001b[0;34m(self, prompt, ident, parent, password)\u001b[0m\n\u001b[1;32m    891\u001b[0m             \u001b[0;32mexcept\u001b[0m \u001b[0mKeyboardInterrupt\u001b[0m\u001b[0;34m:\u001b[0m\u001b[0;34m\u001b[0m\u001b[0;34m\u001b[0m\u001b[0m\n\u001b[1;32m    892\u001b[0m                 \u001b[0;31m# re-raise KeyboardInterrupt, to truncate traceback\u001b[0m\u001b[0;34m\u001b[0m\u001b[0;34m\u001b[0m\u001b[0;34m\u001b[0m\u001b[0m\n\u001b[0;32m--> 893\u001b[0;31m                 \u001b[0;32mraise\u001b[0m \u001b[0mKeyboardInterrupt\u001b[0m\u001b[0;34m(\u001b[0m\u001b[0;34m\"Interrupted by user\"\u001b[0m\u001b[0;34m)\u001b[0m \u001b[0;32mfrom\u001b[0m \u001b[0;32mNone\u001b[0m\u001b[0;34m\u001b[0m\u001b[0;34m\u001b[0m\u001b[0m\n\u001b[0m\u001b[1;32m    894\u001b[0m             \u001b[0;32melse\u001b[0m\u001b[0;34m:\u001b[0m\u001b[0;34m\u001b[0m\u001b[0;34m\u001b[0m\u001b[0m\n\u001b[1;32m    895\u001b[0m                 \u001b[0;32mbreak\u001b[0m\u001b[0;34m\u001b[0m\u001b[0;34m\u001b[0m\u001b[0m\n",
      "\u001b[0;31mKeyboardInterrupt\u001b[0m: Interrupted by user"
     ]
    },
    {
     "name": "stdout",
     "output_type": "stream",
     "text": [
      "3\n"
     ]
    }
   ],
   "source": [
    "maxn = int(2e5+7)\n",
    "precision = int(1e9+1)\n",
    "lastans = 0\n",
    "\n",
    "X = set()\n",
    " \n",
    "def get_temp(T):\n",
    "  return T + len(X)//2 - sum([1 for x in X if x < T])\n",
    "\n",
    " \n",
    "def get_index(T): \n",
    "  low = T-maxn\n",
    "  high = T+maxn\n",
    "  while low + 1 < high:\n",
    "    mid = (low+high)//2\n",
    "    if get_temp(mid) > T:\n",
    "        high = mid\n",
    "    else:\n",
    "        low = mid\n",
    "  return low\n",
    "\n",
    "\n",
    "n=int(input())\n",
    "for i in range(n):\n",
    "    T = int(input())\n",
    "    if int(input()) == 0 : \n",
    "        continue\n",
    "    for u in  [get_index(T), get_index(T-1)]:\n",
    "        X.add(int(u))\n",
    "    for xp in input().split(' '):\n",
    "        x = ( int(xp) + lastans ) % precision\n",
    "        lastans = get_temp(x)\n",
    "        print(lastans)"
   ]
  },
  {
   "cell_type": "code",
   "execution_count": 347,
   "metadata": {},
   "outputs": [
    {
     "name": "stdout",
     "output_type": "stream",
     "text": [
      "[0, -1]\n",
      "[1000000001, 1000000000]\n"
     ]
    }
   ],
   "source": [
    "maxn = int(2e5+7)\n",
    "precision = int(1e9+1)\n",
    "lastans = 0\n",
    "\n",
    "X = set()\n",
    "\n",
    "def order(X,T):\n",
    "    return sum( 1 for x in X if x < T)\n",
    " \n",
    "def get_temp(T):\n",
    "  return T + len(X)//2 - order(X,T)\n",
    "\n",
    " \n",
    "def get_index(T): \n",
    "  low = T-maxn\n",
    "  high = T+maxn\n",
    "  while low + 1 < high:\n",
    "    mid = (low+high)//2\n",
    "    if (get_temp(mid) > T):\n",
    "        high = mid\n",
    "    else:\n",
    "        low = mid\n",
    "  return low\n",
    "\n",
    "X = set()\n",
    "T = 0\n",
    "newvals = [get_index(T), get_index(T-1)]\n",
    "print(newvals)\n",
    "for u in newvals:\n",
    "    X.add(int(u))\n",
    "T = 1000000000\n",
    "newvals = [get_index(T), get_index(T-1)]\n",
    "print(newvals)\n",
    "for u in newvals:\n",
    "    X.add(int(u))"
   ]
  },
  {
   "cell_type": "code",
   "execution_count": 360,
   "metadata": {},
   "outputs": [
    {
     "data": {
      "text/plain": [
       "1"
      ]
     },
     "execution_count": 360,
     "metadata": {},
     "output_type": "execute_result"
    }
   ],
   "source": [
    "T = 50\n",
    "sum([1 for x in X if x < T])"
   ]
  },
  {
   "cell_type": "code",
   "execution_count": 11,
   "metadata": {},
   "outputs": [
    {
     "name": "stdout",
     "output_type": "stream",
     "text": [
      "1\n",
      "1000000 100000\n",
      "1000 300000\n",
      "<\n"
     ]
    }
   ],
   "source": [
    "t = int(input())\n",
    "for i in range(t):\n",
    "    xv1, pv1 = input().split()\n",
    "    pv1 = int(pv1)\n",
    "    xv2, pv2 = input().split()\n",
    "    pv2 = int(pv2)\n",
    "    x1 = xv1.strip('0')\n",
    "    x2 = xv2.strip('0')\n",
    "    p1 = pv1 + (len(xv1)-len(x1))\n",
    "    p2 = pv2 + (len(xv2)-len(x2))\n",
    "    if len(x1) + p1 > len(x2) + p2:\n",
    "        print(\">\")\n",
    "    elif len(x1) + p1 < len(x2) + p2:\n",
    "        print(\"<\")\n",
    "    else:\n",
    "        if x1 > x2:\n",
    "            print(\">\")\n",
    "        elif x1 == x2: \n",
    "            print(\"=\")\n",
    "        else:\n",
    "            print(\"<\")\n",
    "        \n"
   ]
  },
  {
   "cell_type": "code",
   "execution_count": 9,
   "metadata": {},
   "outputs": [
    {
     "ename": "ValueError",
     "evalue": "invalid literal for int() with base 10: ''",
     "output_type": "error",
     "traceback": [
      "\u001b[0;31m---------------------------------------------------------------------------\u001b[0m",
      "\u001b[0;31mValueError\u001b[0m                                Traceback (most recent call last)",
      "\u001b[0;32m<ipython-input-9-4291a28f2f4d>\u001b[0m in \u001b[0;36m<module>\u001b[0;34m\u001b[0m\n\u001b[0;32m----> 1\u001b[0;31m \u001b[0mint\u001b[0m\u001b[0;34m(\u001b[0m\u001b[0;34m'0'\u001b[0m\u001b[0;34m.\u001b[0m\u001b[0mstrip\u001b[0m\u001b[0;34m(\u001b[0m\u001b[0;34m'0'\u001b[0m\u001b[0;34m)\u001b[0m\u001b[0;34m)\u001b[0m\u001b[0;34m\u001b[0m\u001b[0;34m\u001b[0m\u001b[0m\n\u001b[0m",
      "\u001b[0;31mValueError\u001b[0m: invalid literal for int() with base 10: ''"
     ]
    }
   ],
   "source": [
    "int('0'.strip('0'))"
   ]
  },
  {
   "cell_type": "code",
   "execution_count": 41,
   "metadata": {},
   "outputs": [
    {
     "name": "stdout",
     "output_type": "stream",
     "text": [
      "1\n",
      "6\n",
      "2 7 5 3 4 8\n"
     ]
    },
    {
     "ename": "IndexError",
     "evalue": "list index out of range",
     "output_type": "error",
     "traceback": [
      "\u001b[0;31m---------------------------------------------------------------------------\u001b[0m",
      "\u001b[0;31mIndexError\u001b[0m                                Traceback (most recent call last)",
      "\u001b[0;32m<ipython-input-41-f67ccbc729d8>\u001b[0m in \u001b[0;36m<module>\u001b[0;34m\u001b[0m\n\u001b[1;32m     15\u001b[0m         \u001b[0mj\u001b[0m \u001b[0;34m=\u001b[0m \u001b[0mi\u001b[0m \u001b[0;34m-\u001b[0m \u001b[0;36m1\u001b[0m\u001b[0;34m\u001b[0m\u001b[0;34m\u001b[0m\u001b[0m\n\u001b[1;32m     16\u001b[0m         \u001b[0;32mwhile\u001b[0m \u001b[0mlen\u001b[0m\u001b[0;34m(\u001b[0m\u001b[0mfoundset\u001b[0m\u001b[0;34m)\u001b[0m \u001b[0;34m<\u001b[0m \u001b[0mfloor\u001b[0m\u001b[0;34m(\u001b[0m\u001b[0mn\u001b[0m\u001b[0;34m/\u001b[0m\u001b[0;36m2\u001b[0m\u001b[0;34m)\u001b[0m\u001b[0;34m:\u001b[0m\u001b[0;34m\u001b[0m\u001b[0;34m\u001b[0m\u001b[0m\n\u001b[0;32m---> 17\u001b[0;31m             \u001b[0my\u001b[0m \u001b[0;34m=\u001b[0m \u001b[0mlist\u001b[0m\u001b[0;34m(\u001b[0m\u001b[0msA\u001b[0m\u001b[0;34m)\u001b[0m\u001b[0;34m[\u001b[0m\u001b[0mj\u001b[0m\u001b[0;34m]\u001b[0m\u001b[0;34m\u001b[0m\u001b[0;34m\u001b[0m\u001b[0m\n\u001b[0m\u001b[1;32m     18\u001b[0m             \u001b[0;32mif\u001b[0m \u001b[0;34m(\u001b[0m\u001b[0mx\u001b[0m \u001b[0;34m>\u001b[0m \u001b[0my\u001b[0m\u001b[0;34m)\u001b[0m \u001b[0;32mand\u001b[0m \u001b[0;34m(\u001b[0m \u001b[0mx\u001b[0m \u001b[0;34m%\u001b[0m \u001b[0my\u001b[0m \u001b[0;32mnot\u001b[0m \u001b[0;32min\u001b[0m \u001b[0msA\u001b[0m\u001b[0;34m)\u001b[0m\u001b[0;34m:\u001b[0m\u001b[0;34m\u001b[0m\u001b[0;34m\u001b[0m\u001b[0m\n\u001b[1;32m     19\u001b[0m                 \u001b[0mprint\u001b[0m\u001b[0;34m(\u001b[0m\u001b[0mstr\u001b[0m\u001b[0;34m(\u001b[0m\u001b[0mx\u001b[0m\u001b[0;34m)\u001b[0m\u001b[0;34m+\u001b[0m\u001b[0;34m\" \"\u001b[0m\u001b[0;34m+\u001b[0m\u001b[0mstr\u001b[0m\u001b[0;34m(\u001b[0m\u001b[0my\u001b[0m\u001b[0;34m)\u001b[0m\u001b[0;34m)\u001b[0m\u001b[0;34m\u001b[0m\u001b[0;34m\u001b[0m\u001b[0m\n",
      "\u001b[0;31mIndexError\u001b[0m: list index out of range"
     ]
    }
   ],
   "source": [
    "from math import floor as floor\n",
    "t = int(input())\n",
    "for i in range(t):\n",
    "    n = int(input())\n",
    "    A = map(int, input().split())\n",
    "    sA = set(A)\n",
    "    lensA = len(sA)\n",
    "    foundset = set()\n",
    "    i = 0 \n",
    "    while len(foundset) < floor(n/2):\n",
    "        x = list(sA)[i]\n",
    "        sA.remove(x)\n",
    "        lensA = len(sA)\n",
    "        if len(foundset) == floor(n/2): break\n",
    "        j = i - 1 \n",
    "        while len(foundset) < floor(n/2):\n",
    "            y = list(sA)[j]\n",
    "            if (x > y) and ( x % y not in sA):\n",
    "                print(str(x)+\" \"+str(y))\n",
    "                foundset.add((x,y))\n",
    "            if len(foundset) == floor(n/2): break\n",
    "            j += 1\n",
    "        i += 1\n",
    "                \n"
   ]
  },
  {
   "cell_type": "code",
   "execution_count": 30,
   "metadata": {},
   "outputs": [
    {
     "name": "stdout",
     "output_type": "stream",
     "text": [
      "1\n",
      "6\n",
      "2 7 5 3 4 8\n",
      "3 2\n",
      "4 2\n",
      "4 3\n",
      "5 2\n",
      "5 4\n",
      "7 2\n",
      "7 3\n",
      "8 2\n",
      "8 4\n",
      "8 7\n"
     ]
    }
   ],
   "source": [
    "from math import floor as floor\n",
    "t = int(input())\n",
    "for i in range(t):\n",
    "    n = int(input())\n",
    "    A = map(int, input().split())\n",
    "    sA = set(A)\n",
    "    foundset = set()\n",
    "    for x in sA:\n",
    "        for y in sA:\n",
    "            if (x > y) and ( x % y not in sA):\n",
    "                print(str(x)+\" \"+str(y))\n",
    "                foundset.add((x,y))"
   ]
  },
  {
   "cell_type": "code",
   "execution_count": 34,
   "metadata": {},
   "outputs": [],
   "source": [
    "A = {1,2,3}\n",
    "x = list(A)[1]\n",
    "A.remove(x)\n",
    "lensA = len(A)"
   ]
  },
  {
   "cell_type": "code",
   "execution_count": 135,
   "metadata": {},
   "outputs": [
    {
     "name": "stdout",
     "output_type": "stream",
     "text": [
      "1\n",
      "3\n",
      "0 1 11\n",
      "3\n"
     ]
    }
   ],
   "source": [
    "def findmex(A):\n",
    "    mex = 0\n",
    "    found = False\n",
    "    sA = set(A)\n",
    "    while not found:\n",
    "        if mex not in sA:\n",
    "            found = True\n",
    "            return mex\n",
    "        else: \n",
    "            mex += 1\n",
    "            \n",
    "def mextest(A):\n",
    "    if A == []: return False\n",
    "    for i in range(1,len(A)+1):\n",
    "        Ai = A[0:i] \n",
    "        mex = findmex( Ai )\n",
    "        if abs( A[i-1] - mex ) > 1:\n",
    "            return False\n",
    "    return True\n",
    "    \n",
    "    \n",
    "from itertools import chain, combinations\n",
    "\n",
    "def sublists(l):\n",
    "    return chain(*(combinations(l, i) for i in range(len(l) + 1)))\n",
    "\n",
    "t = int(input())\n",
    "for i in range(t):\n",
    "    n = int(input())\n",
    "    A = list(map(int, input().split()))\n",
    "    subA = sublists(A)\n",
    "    found = 0\n",
    "    for sublist in subA:\n",
    "        sublist = list(sublist)\n",
    "        if mextest(sublist):\n",
    "            found += 1\n",
    "    print(found % 998244353)"
   ]
  },
  {
   "cell_type": "code",
   "execution_count": 120,
   "metadata": {},
   "outputs": [
    {
     "name": "stdout",
     "output_type": "stream",
     "text": [
      "[]\n",
      "False\n",
      "[0]\n",
      "True\n",
      "[2]\n",
      "False\n",
      "[1]\n",
      "True\n",
      "[0, 2]\n",
      "True\n",
      "[0, 1]\n",
      "True\n",
      "[2, 1]\n",
      "False\n",
      "[0, 2, 1]\n",
      "False\n"
     ]
    }
   ],
   "source": [
    "A = [0,2,1]\n",
    "subA = all_sublists(A)\n",
    "for sublist in subA:\n",
    "    print(list(sublist))\n",
    "    print(mextest(list(sublist)))"
   ]
  },
  {
   "cell_type": "code",
   "execution_count": 109,
   "metadata": {},
   "outputs": [],
   "source": [
    "from itertools import chain, combinations\n",
    "\n",
    "def all_sublists(l):\n",
    "    return chain(*(combinations(l, i) for i in range(len(l) + 1)))"
   ]
  },
  {
   "cell_type": "code",
   "execution_count": 95,
   "metadata": {},
   "outputs": [
    {
     "name": "stdout",
     "output_type": "stream",
     "text": [
      "[1]\n",
      "0\n",
      "[1, 0]\n",
      "2\n",
      "!\n"
     ]
    }
   ],
   "source": [
    "A = [1,0]\n",
    "for i in range(1,len(A)+1):\n",
    "        Ai = A[0:i] \n",
    "        mex = findmex( Ai )\n",
    "        print(Ai)\n",
    "        print(mex)\n",
    "        if abs( A[i-1] - mex ) > 1:\n",
    "            print(\"!\")"
   ]
  },
  {
   "cell_type": "code",
   "execution_count": 50,
   "metadata": {},
   "outputs": [
    {
     "name": "stdout",
     "output_type": "stream",
     "text": [
      "[[], [0], [0, 2], [2], [0, 2, 1], [2, 1], [1]]\n"
     ]
    }
   ],
   "source": [
    "# function to generate all the sub lists\n",
    "def sub_lists (l):\n",
    "    lists = [[]]\n",
    "    for i in range(len(l) + 1):\n",
    "        for j in range(i):\n",
    "            lists.append(l[j: i])\n",
    "    return lists\n",
    " \n",
    "# driver code\n",
    "l1 = [0, 2, 1]\n",
    "print(sub_lists(l1))"
   ]
  },
  {
   "cell_type": "code",
   "execution_count": 168,
   "metadata": {},
   "outputs": [
    {
     "name": "stdout",
     "output_type": "stream",
     "text": [
      "x = 0\n",
      "v = 1\n",
      "[1, 0, 0, 0, 0, 0, 0]\n",
      "v = 0\n",
      "[0, 0, 0, 0, 0, 0, 0]\n",
      "[0, 0, 0, 0, 0, 0, 0]\n",
      "1\n",
      "\n",
      "\n",
      "x = 1\n",
      "v = 1\n",
      "[1, 1, 0, 0, 0, 0, 0]\n",
      "v = 1\n",
      "[0, 1, 0, 0, 0, 0, 0]\n",
      "[0, 1, 0, 0, 0, 0, 0]\n",
      "3\n",
      "\n",
      "\n",
      "x = 2\n",
      "v = 1\n",
      "[1, 1, 1, 0, 0, 0, 0]\n",
      "v = 1\n",
      "[0, 1, 1, 0, 0, 0, 0]\n",
      "[0, 1, 1, 0, 0, 0, 0]\n",
      "5\n",
      "\n",
      "\n",
      "x = 4\n",
      "v = 0\n",
      "[1, 1, 1, 0, 0, 0, 0]\n",
      "v = 1\n",
      "[0, 1, 1, 0, 1, 0, 0]\n",
      "[0, 1, 1, 0, 1, 0, 0]\n",
      "6\n",
      "\n",
      "\n"
     ]
    }
   ],
   "source": [
    "MOD = 998244353\n",
    "a = [0,1,2,4]\n",
    "n = len(a)\n",
    "dp1, dp2 = [0]*((n+1)+2),[0]*((n+1)+2)\n",
    "for x in a:\n",
    "    print(\"x = %d\" % x)\n",
    "    v = 1 if x == 0 else dp1[x-1]\n",
    "    print(\"v = %d\" % v)\n",
    "    dp1[x] = (dp1[x]*2 + v) % MOD\n",
    "    print(dp1)\n",
    "    v = 1 if x == 1 else dp1[x-2]\n",
    "    print(\"v = %d\" % v)\n",
    "    dp2[x] = (dp2[x]*2 + v) % MOD\n",
    "    print(dp2)\n",
    "    dp2[x+2] = dp2[x+2]*2 % MOD\n",
    "    print(dp2)\n",
    "    print((sum(dp1)+sum(dp2))%MOD)\n",
    "    print('\\n')\n"
   ]
  },
  {
   "cell_type": "code",
   "execution_count": null,
   "metadata": {},
   "outputs": [],
   "source": [
    "v = 1 if x == 0 else"
   ]
  }
 ],
 "metadata": {
  "kernelspec": {
   "display_name": "Python 3",
   "language": "python",
   "name": "python3"
  },
  "language_info": {
   "codemirror_mode": {
    "name": "ipython",
    "version": 3
   },
   "file_extension": ".py",
   "mimetype": "text/x-python",
   "name": "python",
   "nbconvert_exporter": "python",
   "pygments_lexer": "ipython3",
   "version": "3.8.10"
  }
 },
 "nbformat": 4,
 "nbformat_minor": 4
}

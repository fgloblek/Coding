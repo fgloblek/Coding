{
 "cells": [
  {
   "cell_type": "code",
   "execution_count": 24,
   "metadata": {},
   "outputs": [
    {
     "name": "stdout",
     "output_type": "stream",
     "text": [
      "[]\n"
     ]
    }
   ],
   "source": [
    "import math,sys\n",
    "nums = []\n",
    "for line in sys.stdin:\n",
    "    for num in [ math.sqrt(int(x)) for x in line.split()]:\n",
    "        nums.append(num)\n",
    "print([\"%.4f\" % num for num in nums[::-1]])"
   ]
  },
  {
   "cell_type": "code",
   "execution_count": 32,
   "metadata": {},
   "outputs": [
    {
     "name": "stdout",
     "output_type": "stream",
     "text": [
      "1\n",
      "0\n",
      "0\n",
      "1\n",
      "2\n",
      "5\n",
      "3\n",
      "2\n",
      "['2.0000', '3.0000', '5.0000', '2.0000', '1.0000', '0.0000', '0.0000', '1.0000']\n"
     ]
    }
   ],
   "source": [
    "import math,sys\n",
    "nums = []\n",
    "inlist = \"100    125  \\n 3  2 \" \n",
    "for line in inlist:\n",
    "    for num in line.split():\n",
    "        print(num)\n",
    "        nums.append(float(num))\n",
    "print([\"%.4f\" % num for num in nums[::-1]])"
   ]
  },
  {
   "cell_type": "code",
   "execution_count": 172,
   "metadata": {},
   "outputs": [
    {
     "name": "stdout",
     "output_type": "stream",
     "text": [
      "it your \n",
      "\n"
     ]
    }
   ],
   "source": [
    "tokens = ['7325189087', '5', 'it', 'your', 'reality', 'real', 'our', '4294967296', '4', 'sneeds', 'feed', 'and', 'seed', '-1']\n",
    "\n",
    "\n",
    "def word_to_num(word):\n",
    "    d={'a':'2','b':'2','c':'2','d':'3','e':'3','f':'3','g':'4','h':'4','i':'1','j':'1','k':'5','l':'5','m':'6','n':'6','o':'0','p':'7','q':'0','r':'7','s':'7','t':'8','u':'8','v':'8','w':'9','x':'9','y':'9','z':'0'}\n",
    "    s=''\n",
    "    for i in word:\n",
    "        s+=d[i]\n",
    "    return s\n",
    "\n",
    "def optlen(goal,dictionary):\n",
    "    global trail\n",
    "    best = 1000\n",
    "    if goal=='': return 0\n",
    "    for word in dictionary:\n",
    "        sword = word_to_num(word) \n",
    "        if goal.find(sword)==0:\n",
    "            trylen = optlen(goal.replace(sword,''),dictionary)\n",
    "            if trylen + 1 < best:\n",
    "                best = trylen +1\n",
    "                trail.append(word)\n",
    "    return best\n",
    "\n",
    "tokenindex = 0\n",
    "while tokenindex < len(tokens)-2:\n",
    "    goal = tokens[tokenindex]\n",
    "    wordnum = int(tokens[tokenindex+1])\n",
    "    words = [ word for word in tokens[tokenindex+2:tokenindex+2+wordnum]]\n",
    "    tokenindex += wordnum+2\n",
    "    trail = []\n",
    "    olen = optlen(goal,words)\n",
    "    oword = ''\n",
    "    if olen != 100:\n",
    "        for char in trail[::-1][0:olen]:\n",
    "            oword += char +' '\n",
    "        print(oword)\n",
    "    else: \n",
    "        print(\"No solution.\")\n",
    "\n"
   ]
  },
  {
   "cell_type": "code",
   "execution_count": 182,
   "metadata": {},
   "outputs": [
    {
     "name": "stdout",
     "output_type": "stream",
     "text": [
      "['it', 'your', 'reality', 'real', 'our']\n",
      "7325189087\n",
      "realityreal\n"
     ]
    }
   ],
   "source": [
    "tokens = ['7325189087', '5', 'it', 'your', 'reality', 'real', 'our', '-1']\n",
    "\n",
    "tokenindex = 0\n",
    "while tokenindex < len(tokens)-2:\n",
    "    goal = tokens[tokenindex]\n",
    "    wordnum = int(tokens[tokenindex+1])\n",
    "    words = [ word for word in tokens[tokenindex+2:tokenindex+2+wordnum]]\n",
    "    tokenindex += wordnum+2\n",
    "    \n",
    "\n",
    "print(words)\n",
    "print(goal)\n",
    "    \n",
    "    \n",
    "def optlen(goal,dictionary,path):\n",
    "    best = 100\n",
    "    if goal=='': return 0, path\n",
    "    for word in dictionary:\n",
    "        sword = word_to_num(word) \n",
    "        if goal.find(sword)==0:\n",
    "            newbest = min( best, optlen(goal.replace(sword,''),dictionary, path+word)[0] + 1 )\n",
    "            if newbest <= best:\n",
    "                path += word\n",
    "            best = newbest\n",
    "    if best == 100: \n",
    "        path = \"No solutions.\"\n",
    "    return best, path\n",
    "\n",
    "print(optlen(goal,words,'')[1])\n",
    "    "
   ]
  },
  {
   "cell_type": "code",
   "execution_count": null,
   "metadata": {},
   "outputs": [
    {
     "name": "stdout",
     "output_type": "stream",
     "text": [
      "['bj', 'bjj', 'jj', 'jjjj']\n"
     ]
    }
   ],
   "source": [
    "tokens = ['2111111111111111111111111111111111111111111111111111111111111111111111111111111111111111111', '4', 'bj', 'bjj', 'jj', 'jjjj']\n",
    "\n",
    "tokenindex = 0\n",
    "while tokenindex < len(tokens)-2:\n",
    "    goal = tokens[tokenindex]\n",
    "    wordnum = int(tokens[tokenindex+1])\n",
    "    words = [ word for word in tokens[tokenindex+2:tokenindex+2+wordnum]]\n",
    "    tokenindex += wordnum+2\n",
    "    \n",
    "print(words)\n",
    "\n",
    "\n",
    "    \n",
    "trail = []    \n",
    "def optlen(goal,dictionary):\n",
    "    global trail\n",
    "    best = 1000\n",
    "    if goal=='': return 0\n",
    "    for word in dictionary:\n",
    "        sword = word_to_num(word) \n",
    "        if goal.find(sword)==0:\n",
    "            trylen = optlen(goal.replace(sword,'',1),dictionary)\n",
    "            if trylen + 1 < best:\n",
    "                best = trylen +1\n",
    "                trail.append(word)\n",
    "    return best\n",
    "\n",
    "olen = optlen(goal,words)\n",
    "oword = ''\n",
    "for char in trail[::-1][0:olen]:\n",
    "    oword += char +' '\n",
    "print(trail)\n",
    "print(olen)"
   ]
  },
  {
   "cell_type": "code",
   "execution_count": 188,
   "metadata": {},
   "outputs": [
    {
     "ename": "TypeError",
     "evalue": "unsupported operand type(s) for -: 'str' and 'str'",
     "output_type": "error",
     "traceback": [
      "\u001b[0;31m---------------------------------------------------------------------------\u001b[0m",
      "\u001b[0;31mTypeError\u001b[0m                                 Traceback (most recent call last)",
      "\u001b[0;32m<ipython-input-188-123b85b41a94>\u001b[0m in \u001b[0;36m<module>\u001b[0;34m\u001b[0m\n\u001b[1;32m      1\u001b[0m \u001b[0mgoal\u001b[0m \u001b[0;34m=\u001b[0m \u001b[0;34m'2111111111111111111111111111111111111111111111111111111111111111111111111111111111111111111'\u001b[0m\u001b[0;34m\u001b[0m\u001b[0;34m\u001b[0m\u001b[0m\n\u001b[1;32m      2\u001b[0m \u001b[0msubstring\u001b[0m \u001b[0;34m=\u001b[0m \u001b[0mword_to_num\u001b[0m\u001b[0;34m(\u001b[0m\u001b[0;34m'jj'\u001b[0m\u001b[0;34m)\u001b[0m\u001b[0;34m\u001b[0m\u001b[0;34m\u001b[0m\u001b[0m\n\u001b[0;32m----> 3\u001b[0;31m \u001b[0mgoal\u001b[0m \u001b[0;34m-\u001b[0m \u001b[0msubstring\u001b[0m\u001b[0;34m\u001b[0m\u001b[0;34m\u001b[0m\u001b[0m\n\u001b[0m",
      "\u001b[0;31mTypeError\u001b[0m: unsupported operand type(s) for -: 'str' and 'str'"
     ]
    }
   ],
   "source": [
    "goal = '2111111111111111111111111111111111111111111111111111111111111111111111111111111111111111111'\n",
    "substring = word_to_num('jj')\n",
    "goal - substring"
   ]
  },
  {
   "cell_type": "code",
   "execution_count": null,
   "metadata": {},
   "outputs": [],
   "source": [
    "while True:\n",
    "    num_dict={}\n",
    "    num_list=[]\n",
    "    word_list=[]\n",
    "    num = input()\n",
    "    if num=='-1':\n",
    "        break\n",
    "    loop_len = int(input())\n",
    "    for i in range(loop_len):\n",
    "        word_list.append(input())\n",
    "    for item in word_list:\n",
    "        num_dict[word_to_num(item)]=item\n",
    "        num_list.append(word_to_num(item))\n",
    "    perm = permutations(num_list,2)\n",
    "    x=0\n",
    "    for k,v in list(perm):\n",
    "        if k+v==num:\n",
    "            print(num_dict[k]+' '+num_dict[v])\n",
    "        else:\n",
    "            x += 1\n",
    "    if x==loop_len*(loop_len-1):\n",
    "        print('No solution')"
   ]
  }
 ],
 "metadata": {
  "kernelspec": {
   "display_name": "Python 3",
   "language": "python",
   "name": "python3"
  },
  "language_info": {
   "codemirror_mode": {
    "name": "ipython",
    "version": 3
   },
   "file_extension": ".py",
   "mimetype": "text/x-python",
   "name": "python",
   "nbconvert_exporter": "python",
   "pygments_lexer": "ipython3",
   "version": "3.8.10"
  }
 },
 "nbformat": 4,
 "nbformat_minor": 4
}

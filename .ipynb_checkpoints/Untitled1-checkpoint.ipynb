{
 "cells": [
  {
   "cell_type": "code",
   "execution_count": 142,
   "metadata": {},
   "outputs": [
    {
     "name": "stdout",
     "output_type": "stream",
     "text": [
      "aaaa aafaa aaaa aa afa aaaa aaaa aafaa\n"
     ]
    }
   ],
   "source": [
    "tokens = ['2222223222222222322222222222322', '5', 'a', 'aa', 'afa', 'aaaa', 'aafaa']\n",
    "\n",
    "from itertools import combinations_with_replacement as combinations\n",
    "from itertools import permutations\n",
    "from math import floor, ceil\n",
    "\n",
    "def word_to_num(word):\n",
    "    d={'a':'2','b':'2','c':'2','d':'3','e':'3','f':'3','g':'4','h':'4','i':'1','j':'1','k':'5','l':'5','m':'6','n':'6','o':'0','p':'7','q':'0','r':'7','s':'7','t':'8','u':'8','v':'8','w':'9','x':'9','y':'9','z':'0'}\n",
    "    s=''\n",
    "    for i in word:\n",
    "        s+=d[i]\n",
    "    return s\n",
    "\n",
    "def solve(goal,words): \n",
    "    allcombs = []\n",
    "    found = 0 \n",
    "    nosol = 0\n",
    "    n = ceil(len(goal)/len(max(words,key=len)))\n",
    "    while found < 1:\n",
    "        for unperm in combinations(words,n):\n",
    "            if found == 1: break\n",
    "            if len(''.join(unperm))!=len(goal): continue\n",
    "            for i in permutations(unperm):\n",
    "                if found == 1: break\n",
    "                candidate = ''.join(i)\n",
    "                spacecandidate= \" \".join(i)\n",
    "                numcandidate = word_to_num( candidate )\n",
    "                if goal==numcandidate:\n",
    "                    found = 1\n",
    "                    break\n",
    "        n += 1\n",
    "        if n > floor(len(goal)/len(min(words, key=len))): \n",
    "            nosol = 1\n",
    "            break\n",
    "    if nosol == 0: \n",
    "        print(spacecandidate)\n",
    "    else:\n",
    "        print(\"No solutions\")\n",
    "\n",
    "tokenindex = 0\n",
    "while tokenindex < len(tokens)-2:\n",
    "    goal = tokens[tokenindex]\n",
    "    wordnum = int(tokens[tokenindex+1])\n",
    "    words = [ word for word in tokens[tokenindex+2:tokenindex+2+wordnum]]\n",
    "    words = sorted(words, key=len)[::-1]\n",
    "    tokenindex += wordnum+2\n",
    "    solve(goal,words)\n"
   ]
  },
  {
   "cell_type": "code",
   "execution_count": 38,
   "metadata": {},
   "outputs": [
    {
     "name": "stdout",
     "output_type": "stream",
     "text": [
      "cat long black tail \n",
      " bjj jjjj jjjj jjjj jjjj jjjj jjjj jjjj jjjj jjjj jjjj jjjj jjjj jjjj jjjj jjjj jjjj jjjj jjjj jjjj jjjj jjjj jjjj \n",
      " pa wkdwwgpppatgtkmwtdawtgmkitwdmptwkiapt wadtattkmpadppdaiadkgg gdakwttpdpmiaptpdgmdda\n"
     ]
    }
   ],
   "source": [
    "print('cat long black tail \\n bjj jjjj jjjj jjjj jjjj jjjj jjjj jjjj jjjj jjjj jjjj jjjj jjjj jjjj jjjj jjjj jjjj jjjj jjjj jjjj jjjj jjjj jjjj \\n pa wkdwwgpppatgtkmwtdawtgmkitwdmptwkiapt wadtattkmpadppdaiadkgg gdakwttpdpmiaptpdgmdda')"
   ]
  },
  {
   "cell_type": "code",
   "execution_count": 55,
   "metadata": {},
   "outputs": [
    {
     "data": {
      "text/plain": [
       "'pa wkdwwgpppatgtkmwtdawtgmkitwdmptwkia ptw adtattkmpadppdaiadkgggdakwttpdpmiaptpdgmdda'"
      ]
     },
     "execution_count": 55,
     "metadata": {},
     "output_type": "execute_result"
    }
   ],
   "source": [
    "''.join('pa wkdwwgpppatgtkmwtdawtgmkitwdmptwkia ptw adtattkmpadppdaiadkgggdakwttpdpmiaptpdgmdda')"
   ]
  },
  {
   "cell_type": "code",
   "execution_count": null,
   "metadata": {},
   "outputs": [],
   "source": [
    "n=4\n",
    "for unperm in combinations(words,n):\n",
    "            if len(''.join(unperm))!=len(goal): continue\n",
    "            print(unperm)"
   ]
  },
  {
   "cell_type": "code",
   "execution_count": 72,
   "metadata": {},
   "outputs": [
    {
     "ename": "KeyboardInterrupt",
     "evalue": "",
     "output_type": "error",
     "traceback": [
      "\u001b[0;31m---------------------------------------------------------------------------\u001b[0m",
      "\u001b[0;31mKeyboardInterrupt\u001b[0m                         Traceback (most recent call last)",
      "\u001b[0;32m<ipython-input-72-25bb89311431>\u001b[0m in \u001b[0;36m<module>\u001b[0;34m\u001b[0m\n\u001b[1;32m      1\u001b[0m \u001b[0mcandno\u001b[0m\u001b[0;34m=\u001b[0m\u001b[0;36m0\u001b[0m\u001b[0;34m\u001b[0m\u001b[0;34m\u001b[0m\u001b[0m\n\u001b[1;32m      2\u001b[0m \u001b[0;32mfor\u001b[0m \u001b[0munperm\u001b[0m \u001b[0;32min\u001b[0m \u001b[0mcombinations\u001b[0m\u001b[0;34m(\u001b[0m\u001b[0mwords\u001b[0m\u001b[0;34m,\u001b[0m\u001b[0;36m4\u001b[0m\u001b[0;34m)\u001b[0m\u001b[0;34m:\u001b[0m\u001b[0;34m\u001b[0m\u001b[0;34m\u001b[0m\u001b[0m\n\u001b[0;32m----> 3\u001b[0;31m     \u001b[0;32mif\u001b[0m \u001b[0mlen\u001b[0m\u001b[0;34m(\u001b[0m\u001b[0;34m''\u001b[0m\u001b[0;34m.\u001b[0m\u001b[0mjoin\u001b[0m\u001b[0;34m(\u001b[0m\u001b[0munperm\u001b[0m\u001b[0;34m)\u001b[0m\u001b[0;34m)\u001b[0m\u001b[0;34m==\u001b[0m\u001b[0mlen\u001b[0m\u001b[0;34m(\u001b[0m\u001b[0mgoal\u001b[0m\u001b[0;34m)\u001b[0m\u001b[0;34m:\u001b[0m \u001b[0mcandno\u001b[0m \u001b[0;34m+=\u001b[0m \u001b[0;36m1\u001b[0m\u001b[0;34m\u001b[0m\u001b[0;34m\u001b[0m\u001b[0m\n\u001b[0m\u001b[1;32m      4\u001b[0m \u001b[0mprint\u001b[0m\u001b[0;34m(\u001b[0m\u001b[0mcandno\u001b[0m\u001b[0;34m)\u001b[0m\u001b[0;34m\u001b[0m\u001b[0;34m\u001b[0m\u001b[0m\n",
      "\u001b[0;31mKeyboardInterrupt\u001b[0m: "
     ]
    }
   ],
   "source": [
    "candno=0\n",
    "for unperm in combinations(words,4):\n",
    "    if len(''.join(unperm))==len(goal): candno += 1\n",
    "print(candno)"
   ]
  },
  {
   "cell_type": "code",
   "execution_count": 77,
   "metadata": {},
   "outputs": [
    {
     "ename": "AttributeError",
     "evalue": "module 'math' has no attribute 'choose'",
     "output_type": "error",
     "traceback": [
      "\u001b[0;31m---------------------------------------------------------------------------\u001b[0m",
      "\u001b[0;31mAttributeError\u001b[0m                            Traceback (most recent call last)",
      "\u001b[0;32m<ipython-input-77-943a3fcde2ac>\u001b[0m in \u001b[0;36m<module>\u001b[0;34m\u001b[0m\n\u001b[1;32m      1\u001b[0m \u001b[0;32mimport\u001b[0m \u001b[0mmath\u001b[0m\u001b[0;34m\u001b[0m\u001b[0;34m\u001b[0m\u001b[0m\n\u001b[0;32m----> 2\u001b[0;31m \u001b[0mmath\u001b[0m\u001b[0;34m.\u001b[0m\u001b[0mchoose\u001b[0m\u001b[0;34m(\u001b[0m\u001b[0;36m3\u001b[0m\u001b[0;34m,\u001b[0m\u001b[0;36m2\u001b[0m\u001b[0;34m)\u001b[0m\u001b[0;34m\u001b[0m\u001b[0;34m\u001b[0m\u001b[0m\n\u001b[0m",
      "\u001b[0;31mAttributeError\u001b[0m: module 'math' has no attribute 'choose'"
     ]
    }
   ],
   "source": [
    "import math \n",
    "math.choose(3,2)"
   ]
  },
  {
   "cell_type": "code",
   "execution_count": 78,
   "metadata": {},
   "outputs": [],
   "source": [
    "class TrieNode:\n",
    "    \"\"\"A node in the trie structure\"\"\"\n",
    "\n",
    "    def __init__(self, char):\n",
    "        # the character stored in this node\n",
    "        self.char = char\n",
    "\n",
    "        # whether this can be the end of a word\n",
    "        self.is_end = False\n",
    "\n",
    "        # a counter indicating how many times a word is inserted\n",
    "        # (if this node's is_end is True)\n",
    "        self.counter = 0\n",
    "\n",
    "        # a dictionary of child nodes\n",
    "        # keys are characters, values are nodes\n",
    "        self.children = {}\n",
    "        \n",
    "class Trie(object):\n",
    "    \"\"\"The trie object\"\"\"\n",
    "\n",
    "    def __init__(self):\n",
    "        \"\"\"\n",
    "        The trie has at least the root node.\n",
    "        The root node does not store any character\n",
    "        \"\"\"\n",
    "        self.root = TrieNode(\"\")\n",
    "    \n",
    "    def insert(self, word):\n",
    "        \"\"\"Insert a word into the trie\"\"\"\n",
    "        node = self.root\n",
    "        \n",
    "        # Loop through each character in the word\n",
    "        # Check if there is no child containing the character, create a new child for the current node\n",
    "        for char in word:\n",
    "            if char in node.children:\n",
    "                node = node.children[char]\n",
    "            else:\n",
    "                # If a character is not found,\n",
    "                # create a new node in the trie\n",
    "                new_node = TrieNode(char)\n",
    "                node.children[char] = new_node\n",
    "                node = new_node\n",
    "        \n",
    "        # Mark the end of a word\n",
    "        node.is_end = True\n",
    "\n",
    "        # Increment the counter to indicate that we see this word once more\n",
    "        node.counter += 1\n",
    "        \n",
    "    def dfs(self, node, prefix):\n",
    "        \"\"\"Depth-first traversal of the trie\n",
    "        \n",
    "        Args:\n",
    "            - node: the node to start with\n",
    "            - prefix: the current prefix, for tracing a\n",
    "                word while traversing the trie\n",
    "        \"\"\"\n",
    "        if node.is_end:\n",
    "            self.output.append((prefix + node.char, node.counter))\n",
    "        \n",
    "        for child in node.children.values():\n",
    "            self.dfs(child, prefix + node.char)\n",
    "        \n",
    "    def query(self, x):\n",
    "        \"\"\"Given an input (a prefix), retrieve all words stored in\n",
    "        the trie with that prefix, sort the words by the number of \n",
    "        times they have been inserted\n",
    "        \"\"\"\n",
    "        # Use a variable within the class to keep all possible outputs\n",
    "        # As there can be more than one word with such prefix\n",
    "        self.output = []\n",
    "        node = self.root\n",
    "        \n",
    "        # Check if the prefix is in the trie\n",
    "        for char in x:\n",
    "            if char in node.children:\n",
    "                node = node.children[char]\n",
    "            else:\n",
    "                # cannot found the prefix, return empty list\n",
    "                return []\n",
    "        \n",
    "        # Traverse the trie to get all candidates\n",
    "        self.dfs(node, x[:-1])\n",
    "\n",
    "        # Sort the results in reverse order and return\n",
    "        return sorted(self.output, key=lambda x: x[1], reverse=True)"
   ]
  },
  {
   "cell_type": "code",
   "execution_count": 143,
   "metadata": {},
   "outputs": [
    {
     "name": "stdout",
     "output_type": "stream",
     "text": [
      "2222223222222222322222222222322\n",
      "2\n",
      "222223222222222322222222222322\n",
      "2\n",
      "22223222222222322222222222322\n",
      "2\n",
      "2223222222222322222222222322\n",
      "2\n",
      "223222222222322222222222322\n",
      "2\n",
      "23222222222322222222222322\n",
      "2\n",
      "3222222222322222222222322\n",
      "222222222322222222222322\n",
      "2\n",
      "22222222322222222222322\n",
      "2\n",
      "2222222322222222222322\n",
      "2\n",
      "222222322222222222322\n",
      "2\n",
      "22222322222222222322\n",
      "2\n",
      "2222322222222222322\n",
      "2\n",
      "222322222222222322\n",
      "2\n",
      "22322222222222322\n",
      "2\n",
      "2322222222222322\n",
      "2\n",
      "322222222222322\n",
      "22222222222322\n",
      "2\n",
      "2222222222322\n",
      "2\n",
      "222222222322\n",
      "2\n",
      "22222222322\n",
      "2\n",
      "2222222322\n",
      "2\n",
      "222222322\n",
      "2\n",
      "22222322\n",
      "2\n",
      "2222322\n",
      "2\n",
      "222322\n",
      "2\n",
      "22322\n",
      "2\n",
      "2322\n",
      "2\n",
      "322\n",
      "22\n",
      "2\n",
      "2\n",
      "2\n"
     ]
    }
   ],
   "source": [
    "t = Trie()\n",
    "for word in words:\n",
    "    t.insert(word_to_num(word))\n",
    "    \n",
    "def trielookup(string,trie):\n",
    "    substrings = []\n",
    "    for i in range(len(string)):\n",
    "        tq = trie.query(string[0:i])\n",
    "        if tq != [] and string.find(str(tq[0][0]))==0 :\n",
    "            substrings.append( str(tq[0][0]) )\n",
    "    return list(dict.fromkeys(substrings))\n",
    "    \n",
    "i = 0   \n",
    "while i < len(goal):\n",
    "    print(goal[i:])\n",
    "    tq = trielookup(goal[i:],t)\n",
    "    if tq!=[]:\n",
    "        print(tq[0])\n",
    "        i+= len(str(tq[0]))\n",
    "        continue\n",
    "    i+=1"
   ]
  },
  {
   "cell_type": "code",
   "execution_count": 99,
   "metadata": {},
   "outputs": [
    {
     "name": "stdout",
     "output_type": "stream",
     "text": [
      "[('black', '25225'), ('false', '32573'), ('tail', '8215'), ('long', '5064'), ('cat', '228')]\n"
     ]
    }
   ],
   "source": [
    "print([(word,word_to_num(word)) for word in words])"
   ]
  },
  {
   "cell_type": "code",
   "execution_count": 139,
   "metadata": {},
   "outputs": [
    {
     "data": {
      "text/plain": [
       "['228']"
      ]
     },
     "execution_count": 139,
     "metadata": {},
     "output_type": "execute_result"
    }
   ],
   "source": [
    "trielookup('2285064252',t)"
   ]
  },
  {
   "cell_type": "code",
   "execution_count": null,
   "metadata": {},
   "outputs": [],
   "source": []
  }
 ],
 "metadata": {
  "kernelspec": {
   "display_name": "Python 3",
   "language": "python",
   "name": "python3"
  },
  "language_info": {
   "codemirror_mode": {
    "name": "ipython",
    "version": 3
   },
   "file_extension": ".py",
   "mimetype": "text/x-python",
   "name": "python",
   "nbconvert_exporter": "python",
   "pygments_lexer": "ipython3",
   "version": "3.8.10"
  }
 },
 "nbformat": 4,
 "nbformat_minor": 4
}

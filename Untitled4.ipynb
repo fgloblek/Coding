{
 "cells": [
  {
   "cell_type": "code",
   "execution_count": 75,
   "metadata": {
    "ExecuteTime": {
     "end_time": "2022-01-22T20:57:24.140165Z",
     "start_time": "2022-01-22T20:57:24.093164Z"
    }
   },
   "outputs": [],
   "source": [
    "from collections import defaultdict\n",
    "\n",
    "class Graph:\n",
    "    def __init__(self):\n",
    "        self.neighbours = []\n",
    "        self.name2node = {}\n",
    "        self.node2name = []\n",
    "        self.weight = []\n",
    "    def __len__(self):\n",
    "        return len(self.node2name)\n",
    "    def __getitem__(self,v):\n",
    "        return self.neighbours[v]\n",
    "        #nodeneighbours = self.neighbours[v]\n",
    "        #return [ self.node2name[x] for x in nodeneighbours ]\n",
    "    def add_node(self,name):\n",
    "        assert name not in self.name2node\n",
    "        self.name2node[name] = len(self.name2node)\n",
    "        self.node2name.append(name)\n",
    "        self.neighbours.append([])\n",
    "        self.weight.append({})\n",
    "        return self.name2node[name]\n",
    "    def add_halfedge(self,name_u,name_v,weight_uv = None):\n",
    "        u = self.name2node[name_u]\n",
    "        v = self.name2node[name_v]\n",
    "        self.neighbours[u].append(v)\n",
    "        self.weight[u][v] = weight_uv\n",
    "    def add_edge(self,name_u,name_v,weight_uv = None):\n",
    "        self.add_halfedge(name_u,name_v,weight_uv)\n",
    "        self.add_halfedge(name_v,name_u,weight_uv)\n",
    "        \n",
    "class Graph2:\n",
    "    def __init__(self):\n",
    "        self.neighbours = defaultdict(dict)\n",
    "        self.name2node = {}\n",
    "        self.node2name = []\n",
    "        self.weight = []\n",
    "    def __len__(self):\n",
    "        return len(self.node2name)\n",
    "    def __getitem__(self,v):\n",
    "        nodeneighbours = self.neighbours[v]\n",
    "        return [ self.node2name[x] for x in nodeneighbours ]\n",
    "    def add_node(self,name):\n",
    "        assert name not in self.name2node\n",
    "        self.name2node[name] = len(self.name2node)\n",
    "        self.node2name.append(name)\n",
    "        self.neighbours.append([])\n",
    "        self.weight.append({})\n",
    "        return self.name2node[name]\n",
    "    def add_halfedge(self,name_u,name_v,weight_uv = None):\n",
    "        u = self.name2node[name_u]\n",
    "        v = self.name2node[name_v]\n",
    "        self.neighbours[u].append(v)\n",
    "        self.weight[u][v] = weight_uv\n",
    "    def add_edge(self,name_u,name_v,weight_uv = None):\n",
    "        self.add_halfedge(name_u,name_v,weight_uv)\n",
    "        self.add_halfedge(name_v,name_u,weight_uv) \n",
    "        \n",
    "def dfs_rec(graph,root,seen={}):\n",
    "    seen[root] = True\n",
    "    for neighbour in graph[graph.name2node[root]]:\n",
    "        if not seen[neighbour]:\n",
    "            seen[neighbour] = True\n",
    "            dfs_rec(graph,neighbour,seen)\n",
    "def dfs_iter(graph,root,seen={}):\n",
    "    seen[root] = root\n",
    "    stack = [root]\n",
    "    while stack:\n",
    "        node = stack.pop()\n",
    "        for neighbour in graph[node]:\n",
    "            if not seen[neighbour]:\n",
    "                seen[neighbour] = True\n",
    "                stack.append(neighbour)"
   ]
  },
  {
   "cell_type": "code",
   "execution_count": 68,
   "metadata": {
    "ExecuteTime": {
     "end_time": "2022-01-22T20:55:43.971547Z",
     "start_time": "2022-01-22T20:55:43.956147Z"
    }
   },
   "outputs": [],
   "source": [
    "graf = Graph()\n",
    "nodelist = list('ABSCDEFGH')\n",
    "for node in nodelist:\n",
    "    graf.add_node(node)\n",
    "graf.add_edge('A','B')\n",
    "graf.add_edge('A','S')\n",
    "graf.add_edge('S','C')\n",
    "graf.add_edge('S','G')\n",
    "graf.add_edge('C','D')\n",
    "graf.add_edge('C','E')\n",
    "graf.add_edge('C','F')\n",
    "graf.add_edge('G','F')\n",
    "graf.add_edge('G','H')"
   ]
  },
  {
   "cell_type": "code",
   "execution_count": 78,
   "metadata": {
    "ExecuteTime": {
     "end_time": "2022-01-22T21:00:06.546486Z",
     "start_time": "2022-01-22T21:00:06.538411Z"
    }
   },
   "outputs": [
    {
     "name": "stdout",
     "output_type": "stream",
     "text": [
      "defaultdict(<class 'int'>, {1: True, 0: True, 2: True, 3: True, 7: True, 6: True, 8: True, 4: True, 5: True})\n"
     ]
    }
   ],
   "source": [
    "seen = defaultdict(int)\n",
    "dfs_iter(graf,1,seen)\n",
    "print(seen)"
   ]
  },
  {
   "cell_type": "code",
   "execution_count": 76,
   "metadata": {
    "ExecuteTime": {
     "end_time": "2022-01-22T20:57:26.069117Z",
     "start_time": "2022-01-22T20:57:26.059753Z"
    }
   },
   "outputs": [
    {
     "name": "stdout",
     "output_type": "stream",
     "text": [
      "[True, True, True, True, True, True, True, True, True]\n"
     ]
    }
   ],
   "source": [
    "seen = [0]*len(graf)\n",
    "dfs_iter(graf,1,seen)\n",
    "print(seen)"
   ]
  },
  {
   "cell_type": "code",
   "execution_count": 269,
   "metadata": {
    "ExecuteTime": {
     "end_time": "2022-02-02T13:13:41.737386Z",
     "start_time": "2022-02-02T13:13:41.699935Z"
    }
   },
   "outputs": [
    {
     "name": "stdout",
     "output_type": "stream",
     "text": [
      "defaultdict(<class 'list'>, {'A': ['B', 'S'], 'B': ['A'], 'S': ['A', 'C', 'G'], 'C': ['S', 'D', 'E', 'F'], 'G': ['S', 'F', 'H'], 'D': ['C'], 'E': ['C'], 'F': ['C', 'G'], 'H': ['G']})\n",
      "['AB', 'BA', 'AS', 'SA', 'SC', 'CS', 'SG', 'GS', 'CD', 'DC', 'CE', 'EC', 'CF', 'FC', 'GF', 'FG', 'GH', 'HG']\n"
     ]
    }
   ],
   "source": [
    "graf = defaultdict(list)\n",
    "nodelist = list('ABSCDEFGH')\n",
    "edgelist = ['AB','AS','SC','SG','CD','CE','CF','GF','GH']\n",
    "edgelist_full = []\n",
    "for edge in edgelist:\n",
    "    s, t = edge\n",
    "    graf[s].append(t)\n",
    "    graf[t].append(s)\n",
    "    edgelist_full.append(s+t)\n",
    "    edgelist_full.append(t+s)\n",
    "print(graf)\n",
    "print(edgelist_full)"
   ]
  },
  {
   "cell_type": "code",
   "execution_count": 81,
   "metadata": {
    "ExecuteTime": {
     "end_time": "2022-01-22T21:08:19.893649Z",
     "start_time": "2022-01-22T21:08:19.881479Z"
    }
   },
   "outputs": [],
   "source": [
    "def dfs_rec(graph, root, seen=defaultdict(bool), edges=[]):\n",
    "    seen[root] = True\n",
    "    for neighbour in graph[root]:\n",
    "        if not seen[neighbour]:\n",
    "            edges.append(root+neighbour)\n",
    "            seen[neighbour] = True\n",
    "            dfs_rec(graph, neighbour, seen, edges)"
   ]
  },
  {
   "cell_type": "code",
   "execution_count": 110,
   "metadata": {
    "ExecuteTime": {
     "end_time": "2022-01-24T08:40:49.486278Z",
     "start_time": "2022-01-24T08:40:49.470745Z"
    }
   },
   "outputs": [
    {
     "name": "stdout",
     "output_type": "stream",
     "text": [
      "['AB', 'AS', 'SC', 'CD', 'CE', 'CF', 'FG', 'GH', 'BA', 'SA', 'CS', 'DC', 'EC', 'FC', 'GF', 'HG']\n",
      "{'SG', 'GS'}\n"
     ]
    }
   ],
   "source": [
    "def tree(): return defaultdict(tree)\n",
    "tree_edges=[]\n",
    "dfs_rec(graf,'A',defaultdict(bool),tree_edges)\n",
    "newedge=[ edge[::-1] for edge in tree_edges ]\n",
    "edges_full = tree_edges+newedge\n",
    "print(edges_full)\n",
    "back_edges = set(edgelist_full)-set(edges_full)\n",
    "print(back_edges)"
   ]
  },
  {
   "cell_type": "code",
   "execution_count": 163,
   "metadata": {
    "ExecuteTime": {
     "end_time": "2022-01-24T09:43:08.804968Z",
     "start_time": "2022-01-24T09:43:08.794796Z"
    }
   },
   "outputs": [
    {
     "data": {
      "text/plain": [
       "{'GS', 'SG'}"
      ]
     },
     "execution_count": 163,
     "metadata": {},
     "output_type": "execute_result"
    }
   ],
   "source": [
    "back_edges"
   ]
  },
  {
   "cell_type": "code",
   "execution_count": null,
   "metadata": {
    "ExecuteTime": {
     "end_time": "2022-01-24T09:09:34.203039Z",
     "start_time": "2022-01-24T09:09:34.191064Z"
    }
   },
   "outputs": [],
   "source": [
    "def flatten(S):\n",
    "    if S == []:\n",
    "        return S\n",
    "    if isinstance(S[0], list):\n",
    "        return flatten(S[0]) + flatten(S[1:])\n",
    "    return S[:1] + flatten(S[1:])\n",
    "\n",
    "def all_children(graph,u,tree_edges):\n",
    "    children = [edge[1] for edge in tree_edges if edge[0] == u]\n",
    "    return flatten(children + [all_children(graph,v,tree_edges) for v in children])\n"
   ]
  },
  {
   "cell_type": "code",
   "execution_count": 155,
   "metadata": {
    "ExecuteTime": {
     "end_time": "2022-01-24T09:18:11.459358Z",
     "start_time": "2022-01-24T09:18:11.451265Z"
    }
   },
   "outputs": [],
   "source": [
    "def dp(graph, u, tree_edges, back_edges):\n",
    "    if not u:\n",
    "        return 0\n",
    "    children = [edge[1] for edge in tree_edges if edge[0] == u]\n",
    "    up_backedges = [edge for edge in back_edges\n",
    "                    if (edge[0] == u and edge[1] not in all_children(graph, u, tree_edges))\n",
    "                    or (edge[1] == u and edge[0] not in all_children(graph, u, tree_edges))\n",
    "                    ]\n",
    "    down_backedges = [edge for edge in back_edges\n",
    "                      if (edge[0] == u and edge[1] in all_children(graph, u, tree_edges))\n",
    "                      or (edge[1] == u and edge[0] in all_children(graph, u, tree_edges))\n",
    "                      ]\n",
    "    return len(up_backedges)//2-len(down_backedges)//2\n",
    "    + sum(dp(graph, v, tree_edges, back_edges) for v in children)\n",
    "    \n",
    "def anybridge(graph):\n",
    "    return any( [dp(graph, u, tree_edges, back_edges) for u in graph]  )"
   ]
  },
  {
   "cell_type": "markdown",
   "metadata": {
    "ExecuteTime": {
     "end_time": "2022-01-24T09:18:18.275553Z",
     "start_time": "2022-01-24T09:18:18.264208Z"
    }
   },
   "source": [
    "Input\n",
    "The first line contains two space-separated integers n and m (2 ≤ n ≤ 105, n - 1 ≤ m ≤ 3·105) which represent the number of junctions and the roads in the town correspondingly. Then follow m lines, each containing two numbers which describe the roads in the city. Each road is determined by two integers ai and bi (1 ≤ ai, bi ≤ n, ai ≠ bi) — the numbers of junctions it connects.\n",
    "\n",
    "It is guaranteed that one can get from any junction to any other one along the existing bidirectional roads. Each road connects different junctions, there is no more than one road between each pair of junctions.\n",
    "\n",
    "Output\n",
    "If there's no solution, print the single number 0. Otherwise, print m lines each containing two integers pi and qi — each road's orientation. That is the traffic flow will move along a one-directional road from junction pi to junction qi. You can print the roads in any order. If there are several solutions to that problem, print any of them."
   ]
  },
  {
   "cell_type": "code",
   "execution_count": 193,
   "metadata": {
    "ExecuteTime": {
     "end_time": "2022-01-24T10:20:52.883040Z",
     "start_time": "2022-01-24T10:20:37.059983Z"
    }
   },
   "outputs": [
    {
     "name": "stdout",
     "output_type": "stream",
     "text": [
      "6 8\n",
      "1 2\n",
      "2 3\n",
      "1 3\n",
      "4 5\n",
      "4 6\n",
      "5 6\n",
      "2 4\n",
      "3 5\n",
      "{1: -1, 2: -1, 3: 1, 4: 1, 5: -1, 6: 1}\n",
      "1 2\n",
      "2 3\n",
      "3 5\n",
      "5 4\n",
      "4 6\n",
      "3 1\n",
      "4 2\n",
      "6 5\n"
     ]
    }
   ],
   "source": [
    "from collections import defaultdict\n",
    "\n",
    "def dfs_rec(graph, root, seen=defaultdict(bool), edges=[]):\n",
    "    seen[root] = True\n",
    "    for neighbour in graph[root]:\n",
    "        if not seen[neighbour]:\n",
    "            edges.append( (root,neighbour) ) \n",
    "            seen[neighbour] = True\n",
    "            dfs_rec(graph, neighbour, seen, edges)\n",
    "            \n",
    "def flatten(S):\n",
    "    if S == []:\n",
    "        return S\n",
    "    if isinstance(S[0], list):\n",
    "        return flatten(S[0]) + flatten(S[1:])\n",
    "    return S[:1] + flatten(S[1:])\n",
    "\n",
    "def all_children(graph,u,tree_edges):\n",
    "    children = [edge[1] for edge in tree_edges if edge[0] == u]\n",
    "    return flatten(children + [all_children(graph,v,tree_edges) for v in children])\n",
    "\n",
    "def dp(graph, u, tree_edges, back_edges):\n",
    "    if not u:\n",
    "        return 0\n",
    "    children = [edge[1] for edge in tree_edges if edge[0] == u]\n",
    "    up_backedges = [edge for edge in back_edges\n",
    "                    if (edge[0] == u and edge[1] not in all_children(graph, u, tree_edges))\n",
    "                    or (edge[1] == u and edge[0] not in all_children(graph, u, tree_edges))\n",
    "                    ]\n",
    "    down_backedges = [edge for edge in back_edges\n",
    "                      if (edge[0] == u and edge[1] in all_children(graph, u, tree_edges))\n",
    "                      or (edge[1] == u and edge[0] in all_children(graph, u, tree_edges))\n",
    "                      ]\n",
    "    return len(up_backedges)//2-len(down_backedges)//2\n",
    "    + sum(dp(graph, v, tree_edges, back_edges) for v in children)\n",
    "    \n",
    "def anybridge(graph):\n",
    "    return any( [dp(graph, u, tree_edges, back_edges) for u in graph]  )\n",
    "            \n",
    "def main():\n",
    "    n, m = map(int, input().split(' '))\n",
    "    nodelist = list(range(1,n+1))\n",
    "    edgelist_input = []\n",
    "    for _ in range(m):\n",
    "        a, b = map(int, input().split(' '))\n",
    "        edgelist_input.append( (a,b) ) # directed edges\n",
    "    # make graph\n",
    "    graph = defaultdict(list)\n",
    "    edgelist = [] # undirected edges\n",
    "    for s,t in edgelist_input:\n",
    "        graph[s].append(t)\n",
    "        graph[t].append(s)\n",
    "        edgelist.append( (s,t) )\n",
    "        edgelist.append( (t,s) )\n",
    "    # make dfs tree\n",
    "    tree_edges=[]\n",
    "    root = 1\n",
    "    dfs_rec(graph , root , defaultdict(bool), tree_edges )\n",
    "    # find backedges\n",
    "    tree_edges_full = tree_edges + [ (t,s) for s,t in tree_edges ]\n",
    "    back_edges = set(edgelist)-set(tree_edges_full)\n",
    "    span_edges = set(edgelist) - back_edges\n",
    "\n",
    "    \n",
    "    print({ u: dp(graph, u, tree_edges, back_edges)  for u in graph })\n",
    "    if anybridge(graph): \n",
    "        print(0)\n",
    "    else:\n",
    "        up_backedges = []\n",
    "        for node in graph:\n",
    "            up_backedges = up_backedges + [edge for edge in back_edges\n",
    "                    if (edge[0] == node and edge[1] not in all_children(graph, node, tree_edges))\n",
    "                    ]\n",
    "        for s,t in tree_edges + up_backedges:\n",
    "            print(str(s)+' '+str(t))\n",
    "\n",
    "if __name__=='__main__':\n",
    "     main()\n",
    "\n",
    "\n"
   ]
  },
  {
   "cell_type": "code",
   "execution_count": 240,
   "metadata": {
    "ExecuteTime": {
     "end_time": "2022-01-24T10:58:37.770405Z",
     "start_time": "2022-01-24T10:58:37.738321Z"
    }
   },
   "outputs": [
    {
     "name": "stdout",
     "output_type": "stream",
     "text": [
      "[(1, 4), (4, 3), (3, 2), (2, 5)]\n",
      "{2: 5, 3: 5, 4: 3, 5: 3}\n",
      "1 4\n",
      "4 3\n",
      "3 2\n",
      "2 5\n",
      "3 1\n",
      "5 4\n",
      "5 1\n",
      "5 3\n",
      "2 4\n",
      "2 1\n"
     ]
    }
   ],
   "source": [
    "from collections import defaultdict\n",
    "\n",
    "def dfs_rec(graph, root, seen=defaultdict(bool), edges=[]):\n",
    "    seen[root] = True\n",
    "    for neighbour in graph[root]:\n",
    "        if not seen[neighbour]:\n",
    "            edges.append( (root,neighbour) ) \n",
    "            seen[neighbour] = True\n",
    "            dfs_rec(graph, neighbour, seen, edges)\n",
    "            \n",
    "def flatten(S):\n",
    "    if S == []:\n",
    "        return S\n",
    "    if isinstance(S[0], list):\n",
    "        return flatten(S[0]) + flatten(S[1:])\n",
    "    return S[:1] + flatten(S[1:])\n",
    "\n",
    "def all_children(graph,u,tree_edges):\n",
    "    children = [edge[1] for edge in tree_edges if edge[0] == u]\n",
    "    return flatten(children + [all_children(graph,v,tree_edges) for v in children])\n",
    "\n",
    "def dp(graph, u, tree_edges, back_edges):\n",
    "    children = [edge[1] for edge in tree_edges if edge[0] == u]\n",
    "    up_backedges = [edge for edge in back_edges\n",
    "                    if (edge[0] == u and edge[1] not in all_children(graph, u, tree_edges))\n",
    "                    or (edge[1] == u and edge[0] not in all_children(graph, u, tree_edges))\n",
    "                    ]\n",
    "    down_backedges = [edge for edge in back_edges\n",
    "                      if (edge[0] == u and edge[1] in all_children(graph, u, tree_edges))\n",
    "                      or (edge[1] == u and edge[0] in all_children(graph, u, tree_edges))\n",
    "                      ]\n",
    "    return len(up_backedges)//2-len(down_backedges)//2 + sum(dp(graph, v, tree_edges, back_edges) for v in children)\n",
    "    \n",
    "def anybridge(graph):\n",
    "    return any( [dp(graph, u, tree_edges, back_edges) for u in graph]  )\n",
    "           \n",
    "    \n",
    "with open('input.txt') as f:\n",
    "    inputlist = f.read().splitlines()\n",
    "    \n",
    "n, m = map(int, inputlist[0].split(' '))\n",
    "nodelist = list(range(1,n+1))\n",
    "edgelist_input = []\n",
    "for line in inputlist[1:]:\n",
    "    a, b = map(int, line.split(' '))\n",
    "    edgelist_input.append( (a,b) ) # directed edges\n",
    "# make graph\n",
    "graph = defaultdict(list)\n",
    "edgelist = [] # undirected edges\n",
    "for s,t in edgelist_input:\n",
    "    graph[s].append(t)\n",
    "    graph[t].append(s)\n",
    "    edgelist.append( (s,t) )\n",
    "    edgelist.append( (t,s) )\n",
    "# make dfs tree\n",
    "tree_edges=[]\n",
    "root = 1\n",
    "dfs_rec(graph , root , defaultdict(bool), tree_edges )\n",
    "# find backedges\n",
    "tree_edges_full = tree_edges + [ (t,s) for s,t in tree_edges ]\n",
    "back_edges = set(edgelist)-set(tree_edges_full)\n",
    "span_edges = set(edgelist) - back_edges\n",
    "\n",
    "print(tree_edges)\n",
    "print({ u: dp(graph, u, tree_edges, back_edges)  for u in range(2,n+1) })\n",
    "\n",
    "up_backedges = []\n",
    "for node in graph:\n",
    "    up_backedges = up_backedges + [edge for edge in back_edges\n",
    "            if (edge[0] == node and edge[1] not in all_children(graph, node, tree_edges))\n",
    "            ]\n",
    "for s,t in tree_edges + up_backedges:\n",
    "    print(str(s)+' '+str(t))\n",
    "\n",
    "\n",
    "\n"
   ]
  },
  {
   "cell_type": "code",
   "execution_count": 249,
   "metadata": {
    "ExecuteTime": {
     "end_time": "2022-01-24T13:00:01.998445Z",
     "start_time": "2022-01-24T13:00:01.974539Z"
    }
   },
   "outputs": [
    {
     "name": "stdout",
     "output_type": "stream",
     "text": [
      "2 1\n"
     ]
    }
   ],
   "source": [
    "from collections import defaultdict\n",
    "\n",
    "def dfs_rec(graph, root, seen=defaultdict(bool), edges=[]):\n",
    "    seen[root] = True\n",
    "    for neighbour in graph[root]:\n",
    "        if not seen[neighbour]:\n",
    "            edges.append( (root,neighbour) ) \n",
    "            seen[neighbour] = True\n",
    "            dfs_rec(graph, neighbour, seen, edges)\n",
    "            \n",
    "def flatten(S):\n",
    "    if S == []:\n",
    "        return S\n",
    "    if isinstance(S[0], list):\n",
    "        return flatten(S[0]) + flatten(S[1:])\n",
    "    return S[:1] + flatten(S[1:])\n",
    "\n",
    "def all_children(graph,u,tree_edges):\n",
    "    children = [edge[1] for edge in tree_edges if edge[0] == u]\n",
    "    return flatten(children + [all_children(graph,v,tree_edges) for v in children])\n",
    "      \n",
    "    \n",
    "with open('input.txt') as f:\n",
    "    inputlist = f.read().splitlines()\n",
    "    \n",
    "n, m = map(int, inputlist[0].split(' '))\n",
    "nodelist = list(range(1,n+1))\n",
    "edgelist = []\n",
    "for line in inputlist[1:]:\n",
    "    a, b = map(int, line.split(' '))\n",
    "    edgelist.append( (b,a) ) # directed edges, but reverse them\n",
    "# make graph\n",
    "graph = defaultdict(list)\n",
    "for s,t in edgelist:\n",
    "    graph[s].append(t)\n",
    "# make dfs tree\n",
    "tree_edges=[]\n",
    "#for now start from 1\n",
    "root = 2\n",
    "seen = defaultdict(bool)\n",
    "dfs_rec(graph , root , seen , tree_edges )\n",
    "\n",
    "\n",
    "print(' '.join( str(key) for key,item in seen.items()) )"
   ]
  },
  {
   "cell_type": "code",
   "execution_count": 268,
   "metadata": {
    "ExecuteTime": {
     "end_time": "2022-01-31T20:03:44.108483Z",
     "start_time": "2022-01-31T20:03:44.064499Z"
    }
   },
   "outputs": [
    {
     "name": "stdout",
     "output_type": "stream",
     "text": [
      "{1: 2}\n",
      "{1: 3}\n",
      "{1: 3, 2: 'abcd'}\n",
      "{1: 3, 2: 'abcd', 3: ['1', '2', '3'], (1, 2, 3): ['1', '2', '3']}\n"
     ]
    }
   ],
   "source": [
    "from collections import defaultdict\n",
    "a = dict()\n",
    "a[1] = 2\n",
    "print(a)\n",
    "a[1] += 1\n",
    "print(a)\n",
    "a[2] = 'abcd'\n",
    "print(a)\n",
    "a[3] = ['1','2','3']\n",
    "a[(1,2,3)] = ['1','2','3']\n",
    "print(a)\n",
    "from math import log\n",
    "import math\n",
    "log(2.71)\n",
    "dir(math)\n",
    "math.log1p?"
   ]
  },
  {
   "cell_type": "code",
   "execution_count": 251,
   "metadata": {
    "ExecuteTime": {
     "end_time": "2022-01-24T13:39:47.109308Z",
     "start_time": "2022-01-24T13:39:47.078076Z"
    }
   },
   "outputs": [
    {
     "name": "stdout",
     "output_type": "stream",
     "text": [
      "defaultdict(<function tree at 0x7fe5b0c9c8b0>, {'a': defaultdict(<function tree at 0x7fe5b0c9c8b0>, {'b1': defaultdict(<function tree at 0x7fe5b0c9c8b0>, {}), 'b2': defaultdict(<function tree at 0x7fe5b0c9c8b0>, {})}), 'b1': defaultdict(<function tree at 0x7fe5b0c9c8b0>, {'c': defaultdict(<function tree at 0x7fe5b0c9c8b0>, {})})})\n"
     ]
    }
   ],
   "source": [
    "def tree(): return defaultdict(tree)\n",
    "a\n",
    "stablo = tree()\n",
    "stablo['a']['b1']\n",
    "stablo['a']['b2']\n",
    "stablo['b1']['c']\n",
    "print(stablo)"
   ]
  },
  {
   "cell_type": "code",
   "execution_count": null,
   "metadata": {},
   "outputs": [],
   "source": []
  },
  {
   "cell_type": "code",
   "execution_count": null,
   "metadata": {},
   "outputs": [],
   "source": [
    "from collections import defaultdict\n",
    "\n",
    "def dfs_rec(graph, root, seen=defaultdict(bool), edges=[]):\n",
    "    seen[root] = True\n",
    "    for neighbour in graph[root]:\n",
    "        if not seen[neighbour]:\n",
    "            edges.append( (root,neighbour) ) \n",
    "            seen[neighbour] = True\n",
    "            dfs_rec(graph, neighbour, seen, edges)\n",
    "            \n",
    "def flatten(S):\n",
    "    if S == []:\n",
    "        return S\n",
    "    if isinstance(S[0], list):\n",
    "        return flatten(S[0]) + flatten(S[1:])\n",
    "    return S[:1] + flatten(S[1:])\n",
    "\n",
    "def all_children(graph,u,tree_edges):\n",
    "    children = [edge[1] for edge in tree_edges if edge[0] == u]\n",
    "    return flatten(children + [all_children(graph,v,tree_edges) for v in children])\n",
    "      \n",
    "    \n",
    "n, m = map(int, input().split(' '))\n",
    "nodelist = list(range(1,n+1))\n",
    "edgelist = []\n",
    "for _ in range(m):\n",
    "    a, b = map(int, input().split(' '))\n",
    "    edgelist.append( (b,a) ) # directed edges, but reverse them\n",
    "# make graph\n",
    "graph = defaultdict(list)\n",
    "for s,t in edgelist:\n",
    "    graph[s].append(t)\n",
    "# make dfs tree\n",
    "tree_edges=[]\n",
    "#for now start from 1\n",
    "root = 2\n",
    "seen = defaultdict(bool)\n",
    "dfs_rec(graph , root , seen , tree_edges )\n",
    "\n",
    "\n",
    "print(' '.join( str(key) for key,item in seen.items()) )"
   ]
  },
  {
   "cell_type": "code",
   "execution_count": 387,
   "metadata": {
    "ExecuteTime": {
     "end_time": "2022-02-02T14:32:23.044780Z",
     "start_time": "2022-02-02T14:32:23.020959Z"
    }
   },
   "outputs": [],
   "source": [
    "def dfs_rec(graph, root, seen=defaultdict(bool), edges=[]):\n",
    "    seen[root] = True\n",
    "    for neighbour in graph[root]:\n",
    "        if not seen[neighbour]:\n",
    "            edges.append( (root,neighbour) ) \n",
    "            seen[neighbour] = True\n",
    "            dfs_rec(graph, neighbour, seen, edges)\n",
    "def dfs_iter(graph, root, seen=defaultdict(int), edges=[]):\n",
    "    stack = [root]\n",
    "    #seen[root] = True\n",
    "    while stack:\n",
    "        node = stack.pop()\n",
    "        if not seen[node]:\n",
    "            seen[node] = True \n",
    "            for neighbour in reversed(graph[node]):\n",
    "                edges.append( (node,neighbour) )\n",
    "                stack.append(neighbour)\n",
    "def dfs_iter2(graph, root, seen=defaultdict(int), edges=[]):\n",
    "    stack = [root]\n",
    "    seen[root] = True\n",
    "    while stack:\n",
    "        node = stack.pop()\n",
    "        #seen[node] = True \n",
    "        for neighbour in graph[node]:\n",
    "                if not seen[neighbour]: \n",
    "                    seen[neighbour] = True \n",
    "                    edges.append( (node,neighbour) ) \n",
    "                    stack.append(neighbour)\n",
    "                \n",
    "from collections import deque\n",
    "def bfs_iter(graph, root, seen=defaultdict(bool), edges=[]):\n",
    "    stack = deque()\n",
    "    stack.append(root)\n",
    "    seen[root] = True\n",
    "    while stack:\n",
    "        node = stack.popleft()\n",
    "        for neighbour in graph[node]:\n",
    "            if not seen[neighbour]: \n",
    "                seen[neighbour] = True\n",
    "                edges.append( (node,neighbour) ) \n",
    "                stack.append(neighbour)\n",
    "def bfs_iter2(graph, root, seen=defaultdict(bool), edges=[]):\n",
    "    stack = deque()\n",
    "    stack.append(root)\n",
    "    #seen[root] = True\n",
    "    while stack:\n",
    "        node = stack.popleft()\n",
    "        if not seen[node]:\n",
    "            seen[node] = True \n",
    "            for neighbour in graph[node]:\n",
    "                stack.append(neighbour)      \n",
    "                \n",
    "                \n",
    "def bfs_iter2_dist(graph, root, edges=[]):\n",
    "    seen = { k: ( np.inf if k != root else 1) for k in graph.keys()}\n",
    "    stack = deque()\n",
    "    stack.append(root)\n",
    "    while stack:\n",
    "        node = stack.popleft()\n",
    "        for neighbour in graph[node]:\n",
    "            if seen[neighbour]  == np.inf:\n",
    "                seen[neighbour] = seen[node]+1\n",
    "                edges.append( (node,neighbour) ) \n",
    "                stack.append(neighbour)\n",
    "    return seen\n",
    "from collections import deque\n",
    "def bfs_iter_dist(graph, root, edges=[]):\n",
    "    seen = { k: ( np.inf if k != root else 1) for k in graph.keys()}\n",
    "    stack = deque()\n",
    "    stack.append(root)\n",
    "    while stack:\n",
    "        node = stack.popleft()\n",
    "        for neighbour in graph[node]:\n",
    "            if seen[neighbour]  == np.inf:\n",
    "                seen[neighbour] = seen[node]+1\n",
    "                edges.append( (node,neighbour) ) \n",
    "                stack.append(neighbour)\n",
    "    return seen"
   ]
  },
  {
   "cell_type": "code",
   "execution_count": 295,
   "metadata": {
    "ExecuteTime": {
     "end_time": "2022-02-02T13:26:15.053601Z",
     "start_time": "2022-02-02T13:26:15.048870Z"
    }
   },
   "outputs": [
    {
     "name": "stdout",
     "output_type": "stream",
     "text": [
      "[('A', 'B'), ('A', 'S'), ('S', 'C'), ('C', 'D'), ('C', 'E'), ('C', 'F'), ('F', 'G'), ('G', 'H')]\n",
      "defaultdict(<class 'bool'>, {'A': True, 'B': True, 'S': True, 'C': True, 'D': True, 'E': True, 'F': True, 'G': True, 'H': True})\n"
     ]
    }
   ],
   "source": [
    "seen=defaultdict(bool)\n",
    "edges=[]\n",
    "dfs_rec(graf,'A',seen,edges)\n",
    "print(edges)\n",
    "print(seen)"
   ]
  },
  {
   "cell_type": "code",
   "execution_count": 386,
   "metadata": {
    "ExecuteTime": {
     "end_time": "2022-02-02T14:31:56.745468Z",
     "start_time": "2022-02-02T14:31:56.733992Z"
    }
   },
   "outputs": [
    {
     "name": "stdout",
     "output_type": "stream",
     "text": [
      "[('A', 'S'), ('A', 'B'), ('B', 'A'), ('S', 'G'), ('S', 'C'), ('S', 'A'), ('C', 'F'), ('C', 'E'), ('C', 'D'), ('C', 'S'), ('D', 'C'), ('E', 'C'), ('F', 'G'), ('F', 'C'), ('G', 'H'), ('G', 'F'), ('G', 'S'), ('H', 'G')]\n",
      "defaultdict(<class 'int'>, {'A': True, 'B': True, 'S': True, 'C': True, 'D': True, 'E': True, 'F': True, 'G': True, 'H': True})\n",
      "[('A', 'S'), ('A', 'B'), ('S', 'G'), ('S', 'C'), ('C', 'F'), ('C', 'E'), ('C', 'D'), ('G', 'H')]\n",
      "defaultdict(<class 'int'>, {'A': True, 'S': True, 'B': True, 'G': True, 'C': True, 'F': True, 'E': True, 'D': True, 'H': True})\n"
     ]
    }
   ],
   "source": [
    "seen=defaultdict(int)\n",
    "edges=[]\n",
    "dfs_iter(graf,'A',seen,edges)\n",
    "print(edges)\n",
    "print(seen)\n",
    "seen=defaultdict(int)\n",
    "edges=[]\n",
    "dfs_iter2(graf,'A',seen,edges)\n",
    "print(edges)\n",
    "print(seen)"
   ]
  },
  {
   "cell_type": "code",
   "execution_count": 388,
   "metadata": {
    "ExecuteTime": {
     "end_time": "2022-02-02T14:32:25.655031Z",
     "start_time": "2022-02-02T14:32:25.645851Z"
    }
   },
   "outputs": [
    {
     "name": "stdout",
     "output_type": "stream",
     "text": [
      "[('A', 'B'), ('A', 'S'), ('S', 'C'), ('S', 'G'), ('C', 'D'), ('C', 'E'), ('C', 'F'), ('G', 'H')]\n",
      "defaultdict(<class 'bool'>, {'A': True, 'B': True, 'S': True, 'C': True, 'G': True, 'D': True, 'E': True, 'F': True, 'H': True})\n",
      "[]\n",
      "defaultdict(<class 'bool'>, {'A': True, 'B': True, 'S': True, 'C': True, 'G': True, 'D': True, 'E': True, 'F': True, 'H': True})\n"
     ]
    }
   ],
   "source": [
    "seen=defaultdict(bool)\n",
    "edges=[]\n",
    "bfs_iter(graf,'A',seen,edges)\n",
    "print(edges)\n",
    "print(seen)\n",
    "seen=defaultdict(bool)\n",
    "edges=[]\n",
    "bfs_iter2(graf,'A',seen,edges)\n",
    "print(edges)\n",
    "print(seen)"
   ]
  },
  {
   "cell_type": "code",
   "execution_count": 373,
   "metadata": {
    "ExecuteTime": {
     "end_time": "2022-02-02T14:18:11.113826Z",
     "start_time": "2022-02-02T14:18:11.109653Z"
    }
   },
   "outputs": [
    {
     "name": "stdout",
     "output_type": "stream",
     "text": [
      "[('A', 'B'), ('A', 'S'), ('S', 'C'), ('S', 'G'), ('C', 'D'), ('C', 'E'), ('C', 'F'), ('G', 'H')]\n",
      "{'A': 1, 'B': 2, 'S': 2, 'C': 3, 'G': 3, 'D': 4, 'E': 4, 'F': 4, 'H': 4}\n"
     ]
    }
   ],
   "source": [
    "seen={}\n",
    "edges=[]\n",
    "seen = bfs_iter_dist(graf,'A',edges)\n",
    "print(edges)\n",
    "print(seen)"
   ]
  },
  {
   "cell_type": "code",
   "execution_count": null,
   "metadata": {},
   "outputs": [],
   "source": []
  }
 ],
 "metadata": {
  "kernelspec": {
   "display_name": "Python 3",
   "language": "python",
   "name": "python3"
  },
  "language_info": {
   "codemirror_mode": {
    "name": "ipython",
    "version": 3
   },
   "file_extension": ".py",
   "mimetype": "text/x-python",
   "name": "python",
   "nbconvert_exporter": "python",
   "pygments_lexer": "ipython3",
   "version": "3.8.10"
  },
  "latex_envs": {
   "LaTeX_envs_menu_present": true,
   "autoclose": false,
   "autocomplete": true,
   "bibliofile": "biblio.bib",
   "cite_by": "apalike",
   "current_citInitial": 1,
   "eqLabelWithNumbers": true,
   "eqNumInitial": 1,
   "hotkeys": {
    "equation": "Ctrl-E",
    "itemize": "Ctrl-I"
   },
   "labels_anchors": false,
   "latex_user_defs": false,
   "report_style_numbering": false,
   "user_envs_cfg": false
  },
  "toc": {
   "base_numbering": 1,
   "nav_menu": {},
   "number_sections": true,
   "sideBar": true,
   "skip_h1_title": false,
   "title_cell": "Table of Contents",
   "title_sidebar": "Contents",
   "toc_cell": false,
   "toc_position": {},
   "toc_section_display": true,
   "toc_window_display": false
  },
  "varInspector": {
   "cols": {
    "lenName": 16,
    "lenType": 16,
    "lenVar": 40
   },
   "kernels_config": {
    "python": {
     "delete_cmd_postfix": "",
     "delete_cmd_prefix": "del ",
     "library": "var_list.py",
     "varRefreshCmd": "print(var_dic_list())"
    },
    "r": {
     "delete_cmd_postfix": ") ",
     "delete_cmd_prefix": "rm(",
     "library": "var_list.r",
     "varRefreshCmd": "cat(var_dic_list()) "
    }
   },
   "types_to_exclude": [
    "module",
    "function",
    "builtin_function_or_method",
    "instance",
    "_Feature"
   ],
   "window_display": false
  }
 },
 "nbformat": 4,
 "nbformat_minor": 4
}
